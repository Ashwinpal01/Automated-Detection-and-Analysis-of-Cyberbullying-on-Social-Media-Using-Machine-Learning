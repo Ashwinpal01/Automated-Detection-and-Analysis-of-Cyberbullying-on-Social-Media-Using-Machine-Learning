{
 "cells": [
  {
   "cell_type": "markdown",
   "id": "dcce97a4",
   "metadata": {},
   "source": [
    "# Import basic library"
   ]
  },
  {
   "cell_type": "code",
   "execution_count": 1,
   "id": "f7f82880",
   "metadata": {},
   "outputs": [],
   "source": [
    "import pandas as pd\n",
    "import numpy as np\n",
    "from nltk.stem import StemmerI\n",
    "from sklearn.model_selection import train_test_split\n",
    "from sklearn.ensemble import GradientBoostingClassifier\n",
    "import nltk\n",
    "# nltk.download('stopwords')\n",
    "from sklearn.model_selection import RandomizedSearchCV\n",
    "from xgboost import XGBClassifier\n"
   ]
  },
  {
   "cell_type": "markdown",
   "id": "2ee96c18",
   "metadata": {},
   "source": [
    "https://www.kaggle.com/datasets/andrewmvd/cyberbullying-classification"
   ]
  },
  {
   "cell_type": "markdown",
   "id": "17753980",
   "metadata": {},
   "source": [
    "# About dataset "
   ]
  },
  {
   "cell_type": "markdown",
   "id": "523745e7",
   "metadata": {},
   "source": [
    "As social media usage becomes increasingly prevalent in every age group, a vast majority of citizens rely on this essential medium for day-to-day communication. Social media’s ubiquity means that cyberbullying can effectively impact anyone at any time or anywhere, and the relative anonymity\n",
    "of the internet makes such personal attacks more difficult to stop than traditional bullying.\n",
    "\n",
    "On April 15th, 2020, UNICEF issued a warning in response to the increased risk of cyberbullying during the COVID-19 pandemic due to widespread school closures, increased screen time, and decreased face-to-face social interaction. The statistics of cyberbullying are outright alarming: 36.5% of middle and high school students have felt cyberbullied and 87% have observed cyberbullying, with effects ranging from decreased academic performance to depression to suicidal thoughts.\n",
    "\n",
    "In light of all of this, this dataset contains more than 47000 tweets labelled according to the class of cyberbullying:\n",
    "\n",
    "Age;\n",
    "Ethnicity;\n",
    "Gender;\n",
    "Religion;\n",
    "Other type of cyberbullying;\n",
    "Not cyberbullying\n",
    "\n",
    "\n",
    "\n",
    "Data Dictionary :\n",
    "tweet_text: Tweets regsitred \n",
    "cyberbullying_type: type of cyber bullying."
   ]
  },
  {
   "cell_type": "markdown",
   "id": "3f0224f1",
   "metadata": {},
   "source": [
    "# Load Dataset "
   ]
  },
  {
   "cell_type": "code",
   "execution_count": 2,
   "id": "24915f02",
   "metadata": {},
   "outputs": [],
   "source": [
    "cbt = pd.read_csv(\"cyberbullying_tweets.csv\")"
   ]
  },
  {
   "cell_type": "code",
   "execution_count": null,
   "id": "f0a8b366",
   "metadata": {},
   "outputs": [],
   "source": []
  },
  {
   "cell_type": "code",
   "execution_count": 3,
   "id": "fad2c944",
   "metadata": {},
   "outputs": [
    {
     "data": {
      "text/plain": [
       "(47692, 2)"
      ]
     },
     "execution_count": 3,
     "metadata": {},
     "output_type": "execute_result"
    }
   ],
   "source": [
    "cbt.shape"
   ]
  },
  {
   "cell_type": "markdown",
   "id": "89d69176",
   "metadata": {},
   "source": [
    "# Checking for data balanced "
   ]
  },
  {
   "cell_type": "code",
   "execution_count": 4,
   "id": "6f9b5884",
   "metadata": {},
   "outputs": [
    {
     "data": {
      "text/plain": [
       "religion               16.770108\n",
       "age                    16.757527\n",
       "gender                 16.717689\n",
       "ethnicity              16.692527\n",
       "not_cyberbullying      16.658978\n",
       "other_cyberbullying    16.403170\n",
       "Name: cyberbullying_type, dtype: float64"
      ]
     },
     "execution_count": 4,
     "metadata": {},
     "output_type": "execute_result"
    }
   ],
   "source": [
    "cbt['cyberbullying_type'].value_counts(normalize='True')*100"
   ]
  },
  {
   "cell_type": "code",
   "execution_count": 5,
   "id": "3a602cf9",
   "metadata": {},
   "outputs": [
    {
     "name": "stdout",
     "output_type": "stream",
     "text": [
      "<class 'pandas.core.frame.DataFrame'>\n",
      "RangeIndex: 47692 entries, 0 to 47691\n",
      "Data columns (total 2 columns):\n",
      " #   Column              Non-Null Count  Dtype \n",
      "---  ------              --------------  ----- \n",
      " 0   tweet_text          47692 non-null  object\n",
      " 1   cyberbullying_type  47692 non-null  object\n",
      "dtypes: object(2)\n",
      "memory usage: 745.3+ KB\n"
     ]
    }
   ],
   "source": [
    "cbt.info()"
   ]
  },
  {
   "cell_type": "markdown",
   "id": "80c6fe35",
   "metadata": {},
   "source": [
    "# Checking Null values "
   ]
  },
  {
   "cell_type": "code",
   "execution_count": 6,
   "id": "b3a77748",
   "metadata": {},
   "outputs": [
    {
     "data": {
      "text/plain": [
       "tweet_text            0\n",
       "cyberbullying_type    0\n",
       "dtype: int64"
      ]
     },
     "execution_count": 6,
     "metadata": {},
     "output_type": "execute_result"
    }
   ],
   "source": [
    "cbt.isnull().sum()"
   ]
  },
  {
   "cell_type": "code",
   "execution_count": 7,
   "id": "2e22eee6",
   "metadata": {},
   "outputs": [
    {
     "data": {
      "text/plain": [
       "0        In other words #katandandre, your food was cra...\n",
       "1        Why is #aussietv so white? #MKR #theblock #ImA...\n",
       "2        @XochitlSuckkks a classy whore? Or more red ve...\n",
       "3        @Jason_Gio meh. :P  thanks for the heads up, b...\n",
       "4        @RudhoeEnglish This is an ISIS account pretend...\n",
       "                               ...                        \n",
       "47687    Black ppl aren't expected to do anything, depe...\n",
       "47688    Turner did not withhold his disappointment. Tu...\n",
       "47689    I swear to God. This dumb nigger bitch. I have...\n",
       "47690    Yea fuck you RT @therealexel: IF YOURE A NIGGE...\n",
       "47691    Bro. U gotta chill RT @CHILLShrammy: Dog FUCK ...\n",
       "Name: tweet_text, Length: 47692, dtype: object"
      ]
     },
     "execution_count": 7,
     "metadata": {},
     "output_type": "execute_result"
    }
   ],
   "source": [
    "cbt.tweet_text"
   ]
  },
  {
   "cell_type": "markdown",
   "id": "c4f253ab",
   "metadata": {},
   "source": [
    "# Removing stopwords and unwanted characters ,Convert text to lowercase,Remove unwanted spaces."
   ]
  },
  {
   "cell_type": "code",
   "execution_count": 8,
   "id": "e127901b",
   "metadata": {},
   "outputs": [],
   "source": [
    "import re\n",
    "from nltk.corpus import stopwords\n",
    "from nltk.tokenize import word_tokenize\n",
    "\n",
    "def preprocess_text(text):\n",
    "    # Remove unwanted characters using regex\n",
    "    text = re.sub(r'[^\\w\\s]', '', text)\n",
    "    # Convert text to lowercase\n",
    "    text = text.lower()\n",
    "    # Remove unwanted spaces\n",
    "    text = text.strip()\n",
    "    # Tokenize the text\n",
    "    tokens = word_tokenize(text)\n",
    "    # Remove stopwords\n",
    "    stop_words = set(stopwords.words('english'))\n",
    "    filtered_tokens = [word for word in tokens if word not in stop_words]\n",
    "    # Join the filtered tokens back into a sentence\n",
    "    preprocessed_text = ' '.join(filtered_tokens)\n",
    "    return preprocessed_text"
   ]
  },
  {
   "cell_type": "markdown",
   "id": "d390d571",
   "metadata": {},
   "source": [
    "nltk.download('punkt')"
   ]
  },
  {
   "cell_type": "code",
   "execution_count": 9,
   "id": "6c6c498e",
   "metadata": {},
   "outputs": [],
   "source": [
    "\n",
    "import nltk\n"
   ]
  },
  {
   "cell_type": "markdown",
   "id": "c91510c4",
   "metadata": {},
   "source": [
    "# Adding processed_text"
   ]
  },
  {
   "cell_type": "code",
   "execution_count": 10,
   "id": "d8a491db",
   "metadata": {},
   "outputs": [],
   "source": [
    "cbt['processed_text']=cbt.tweet_text.apply(preprocess_text)"
   ]
  },
  {
   "cell_type": "code",
   "execution_count": 11,
   "id": "abdde15e",
   "metadata": {},
   "outputs": [],
   "source": [
    "from sklearn.feature_extraction.text import CountVectorizer,TfidfVectorizer"
   ]
  },
  {
   "cell_type": "code",
   "execution_count": 12,
   "id": "a29edf1c",
   "metadata": {},
   "outputs": [
    {
     "data": {
      "text/plain": [
       "0                  words katandandre food crapilicious mkr\n",
       "1        aussietv white mkr theblock imacelebrityau tod...\n",
       "2          xochitlsuckkks classy whore red velvet cupcakes\n",
       "3        jason_gio meh p thanks heads concerned another...\n",
       "4        rudhoeenglish isis account pretending kurdish ...\n",
       "                               ...                        \n",
       "47687    black ppl arent expected anything depended any...\n",
       "47688    turner withhold disappointment turner called c...\n",
       "47689    swear god dumb nigger bitch got bleach hair re...\n",
       "47690    yea fuck rt therealexel youre nigger fucking u...\n",
       "47691    bro u got ta chill rt chillshrammy dog fuck kp...\n",
       "Name: processed_text, Length: 47692, dtype: object"
      ]
     },
     "execution_count": 12,
     "metadata": {},
     "output_type": "execute_result"
    }
   ],
   "source": [
    "cbt.processed_text"
   ]
  },
  {
   "cell_type": "code",
   "execution_count": 13,
   "id": "41b6a73d",
   "metadata": {},
   "outputs": [],
   "source": [
    "from wordcloud import WordCloud"
   ]
  },
  {
   "cell_type": "code",
   "execution_count": 14,
   "id": "43c41a9b",
   "metadata": {},
   "outputs": [
    {
     "data": {
      "text/html": [
       "<div>\n",
       "<style scoped>\n",
       "    .dataframe tbody tr th:only-of-type {\n",
       "        vertical-align: middle;\n",
       "    }\n",
       "\n",
       "    .dataframe tbody tr th {\n",
       "        vertical-align: top;\n",
       "    }\n",
       "\n",
       "    .dataframe thead th {\n",
       "        text-align: right;\n",
       "    }\n",
       "</style>\n",
       "<table border=\"1\" class=\"dataframe\">\n",
       "  <thead>\n",
       "    <tr style=\"text-align: right;\">\n",
       "      <th></th>\n",
       "      <th>tweet_text</th>\n",
       "      <th>cyberbullying_type</th>\n",
       "      <th>processed_text</th>\n",
       "    </tr>\n",
       "  </thead>\n",
       "  <tbody>\n",
       "    <tr>\n",
       "      <th>31739</th>\n",
       "      <td>Here at home. Neighbors pick on my family and ...</td>\n",
       "      <td>age</td>\n",
       "      <td>home neighbors pick family mind son autistic f...</td>\n",
       "    </tr>\n",
       "    <tr>\n",
       "      <th>31740</th>\n",
       "      <td>Being bullied at school: High-achieving boys u...</td>\n",
       "      <td>age</td>\n",
       "      <td>bullied school highachieving boys use strategi...</td>\n",
       "    </tr>\n",
       "    <tr>\n",
       "      <th>31741</th>\n",
       "      <td>There was a girl in my class in 6th grade who ...</td>\n",
       "      <td>age</td>\n",
       "      <td>girl class 6th grade little autistic parents t...</td>\n",
       "    </tr>\n",
       "    <tr>\n",
       "      <th>31742</th>\n",
       "      <td>He’s probably a white gay kid from some suburb...</td>\n",
       "      <td>age</td>\n",
       "      <td>hes probably white gay kid suburb dont want sh...</td>\n",
       "    </tr>\n",
       "    <tr>\n",
       "      <th>31743</th>\n",
       "      <td>You are pushed ti resorting. Treating thr bull...</td>\n",
       "      <td>age</td>\n",
       "      <td>pushed ti resorting treating thr bullies perce...</td>\n",
       "    </tr>\n",
       "    <tr>\n",
       "      <th>...</th>\n",
       "      <td>...</td>\n",
       "      <td>...</td>\n",
       "      <td>...</td>\n",
       "    </tr>\n",
       "    <tr>\n",
       "      <th>39726</th>\n",
       "      <td>This girl really tried to say I bullied her in...</td>\n",
       "      <td>age</td>\n",
       "      <td>girl really tried say bullied high school real...</td>\n",
       "    </tr>\n",
       "    <tr>\n",
       "      <th>39727</th>\n",
       "      <td>a bully at school who has been messing with me...</td>\n",
       "      <td>age</td>\n",
       "      <td>bully school messing since 3rd grade lt3</td>\n",
       "    </tr>\n",
       "    <tr>\n",
       "      <th>39728</th>\n",
       "      <td>I remember I wrote an entire song in 6th grade...</td>\n",
       "      <td>age</td>\n",
       "      <td>remember wrote entire song 6th grade called bo...</td>\n",
       "    </tr>\n",
       "    <tr>\n",
       "      <th>39729</th>\n",
       "      <td>I was not the Prom Queen. I was the bullied gi...</td>\n",
       "      <td>age</td>\n",
       "      <td>prom queen bullied girl black sheep different ...</td>\n",
       "    </tr>\n",
       "    <tr>\n",
       "      <th>39730</th>\n",
       "      <td>Everyone tryin to be a “cute alt girl” like th...</td>\n",
       "      <td>age</td>\n",
       "      <td>everyone tryin cute alt girl like didnt bully ...</td>\n",
       "    </tr>\n",
       "  </tbody>\n",
       "</table>\n",
       "<p>7992 rows × 3 columns</p>\n",
       "</div>"
      ],
      "text/plain": [
       "                                              tweet_text cyberbullying_type  \\\n",
       "31739  Here at home. Neighbors pick on my family and ...                age   \n",
       "31740  Being bullied at school: High-achieving boys u...                age   \n",
       "31741  There was a girl in my class in 6th grade who ...                age   \n",
       "31742  He’s probably a white gay kid from some suburb...                age   \n",
       "31743  You are pushed ti resorting. Treating thr bull...                age   \n",
       "...                                                  ...                ...   \n",
       "39726  This girl really tried to say I bullied her in...                age   \n",
       "39727  a bully at school who has been messing with me...                age   \n",
       "39728  I remember I wrote an entire song in 6th grade...                age   \n",
       "39729  I was not the Prom Queen. I was the bullied gi...                age   \n",
       "39730  Everyone tryin to be a “cute alt girl” like th...                age   \n",
       "\n",
       "                                          processed_text  \n",
       "31739  home neighbors pick family mind son autistic f...  \n",
       "31740  bullied school highachieving boys use strategi...  \n",
       "31741  girl class 6th grade little autistic parents t...  \n",
       "31742  hes probably white gay kid suburb dont want sh...  \n",
       "31743  pushed ti resorting treating thr bullies perce...  \n",
       "...                                                  ...  \n",
       "39726  girl really tried say bullied high school real...  \n",
       "39727           bully school messing since 3rd grade lt3  \n",
       "39728  remember wrote entire song 6th grade called bo...  \n",
       "39729  prom queen bullied girl black sheep different ...  \n",
       "39730  everyone tryin cute alt girl like didnt bully ...  \n",
       "\n",
       "[7992 rows x 3 columns]"
      ]
     },
     "execution_count": 14,
     "metadata": {},
     "output_type": "execute_result"
    }
   ],
   "source": [
    "cbt[cbt['cyberbullying_type']=='age']"
   ]
  },
  {
   "cell_type": "code",
   "execution_count": 15,
   "id": "86bc95e1",
   "metadata": {},
   "outputs": [
    {
     "data": {
      "text/html": [
       "<div>\n",
       "<style scoped>\n",
       "    .dataframe tbody tr th:only-of-type {\n",
       "        vertical-align: middle;\n",
       "    }\n",
       "\n",
       "    .dataframe tbody tr th {\n",
       "        vertical-align: top;\n",
       "    }\n",
       "\n",
       "    .dataframe thead th {\n",
       "        text-align: right;\n",
       "    }\n",
       "</style>\n",
       "<table border=\"1\" class=\"dataframe\">\n",
       "  <thead>\n",
       "    <tr style=\"text-align: right;\">\n",
       "      <th></th>\n",
       "      <th>tweet_text</th>\n",
       "      <th>cyberbullying_type</th>\n",
       "      <th>processed_text</th>\n",
       "    </tr>\n",
       "  </thead>\n",
       "  <tbody>\n",
       "    <tr>\n",
       "      <th>15918</th>\n",
       "      <td>Sudeep, did she invite him though? No right? W...</td>\n",
       "      <td>religion</td>\n",
       "      <td>sudeep invite though right getting worded your...</td>\n",
       "    </tr>\n",
       "    <tr>\n",
       "      <th>15919</th>\n",
       "      <td>@discerningmumin Islam has never been a resist...</td>\n",
       "      <td>religion</td>\n",
       "      <td>discerningmumin islam never resistance oppress...</td>\n",
       "    </tr>\n",
       "    <tr>\n",
       "      <th>15920</th>\n",
       "      <td>Boy, your comment about Journalists wanting to...</td>\n",
       "      <td>religion</td>\n",
       "      <td>boy comment journalists wanting keep churches ...</td>\n",
       "    </tr>\n",
       "    <tr>\n",
       "      <th>15921</th>\n",
       "      <td>@ShashiTharoor @INCIndia Hindus were and are g...</td>\n",
       "      <td>religion</td>\n",
       "      <td>shashitharoor incindia hindus getting killed m...</td>\n",
       "    </tr>\n",
       "    <tr>\n",
       "      <th>15922</th>\n",
       "      <td>White supremicists? How many do you know? Ther...</td>\n",
       "      <td>religion</td>\n",
       "      <td>white supremicists many know idiots races anti...</td>\n",
       "    </tr>\n",
       "    <tr>\n",
       "      <th>...</th>\n",
       "      <td>...</td>\n",
       "      <td>...</td>\n",
       "      <td>...</td>\n",
       "    </tr>\n",
       "    <tr>\n",
       "      <th>23911</th>\n",
       "      <td>Can you imagine if Christians came together li...</td>\n",
       "      <td>religion</td>\n",
       "      <td>imagine christians came together like 5 times ...</td>\n",
       "    </tr>\n",
       "    <tr>\n",
       "      <th>23912</th>\n",
       "      <td>So how to support justice from the initial pro...</td>\n",
       "      <td>religion</td>\n",
       "      <td>support justice initial problem morphed became...</td>\n",
       "    </tr>\n",
       "    <tr>\n",
       "      <th>23913</th>\n",
       "      <td>RT @TRobinsonNewEra: If you harbour any doubts...</td>\n",
       "      <td>religion</td>\n",
       "      <td>rt trobinsonnewera harbour doubts muslims beli...</td>\n",
       "    </tr>\n",
       "    <tr>\n",
       "      <th>23914</th>\n",
       "      <td>@dankmtl @PeaceNotHate_ One thing about Muslim...</td>\n",
       "      <td>religion</td>\n",
       "      <td>dankmtl peacenothate_ one thing muslims want e...</td>\n",
       "    </tr>\n",
       "    <tr>\n",
       "      <th>23915</th>\n",
       "      <td>Does the Quran precludes women from human righ...</td>\n",
       "      <td>religion</td>\n",
       "      <td>quran precludes women human rights adherents w...</td>\n",
       "    </tr>\n",
       "  </tbody>\n",
       "</table>\n",
       "<p>7998 rows × 3 columns</p>\n",
       "</div>"
      ],
      "text/plain": [
       "                                              tweet_text cyberbullying_type  \\\n",
       "15918  Sudeep, did she invite him though? No right? W...           religion   \n",
       "15919  @discerningmumin Islam has never been a resist...           religion   \n",
       "15920  Boy, your comment about Journalists wanting to...           religion   \n",
       "15921  @ShashiTharoor @INCIndia Hindus were and are g...           religion   \n",
       "15922  White supremicists? How many do you know? Ther...           religion   \n",
       "...                                                  ...                ...   \n",
       "23911  Can you imagine if Christians came together li...           religion   \n",
       "23912  So how to support justice from the initial pro...           religion   \n",
       "23913  RT @TRobinsonNewEra: If you harbour any doubts...           religion   \n",
       "23914  @dankmtl @PeaceNotHate_ One thing about Muslim...           religion   \n",
       "23915  Does the Quran precludes women from human righ...           religion   \n",
       "\n",
       "                                          processed_text  \n",
       "15918  sudeep invite though right getting worded your...  \n",
       "15919  discerningmumin islam never resistance oppress...  \n",
       "15920  boy comment journalists wanting keep churches ...  \n",
       "15921  shashitharoor incindia hindus getting killed m...  \n",
       "15922  white supremicists many know idiots races anti...  \n",
       "...                                                  ...  \n",
       "23911  imagine christians came together like 5 times ...  \n",
       "23912  support justice initial problem morphed became...  \n",
       "23913  rt trobinsonnewera harbour doubts muslims beli...  \n",
       "23914  dankmtl peacenothate_ one thing muslims want e...  \n",
       "23915  quran precludes women human rights adherents w...  \n",
       "\n",
       "[7998 rows x 3 columns]"
      ]
     },
     "execution_count": 15,
     "metadata": {},
     "output_type": "execute_result"
    }
   ],
   "source": [
    "cbt[cbt['cyberbullying_type']=='religion']"
   ]
  },
  {
   "cell_type": "markdown",
   "id": "3ca3997c",
   "metadata": {},
   "source": [
    "# Dropping tweet_text i.e. actual text"
   ]
  },
  {
   "cell_type": "code",
   "execution_count": 16,
   "id": "325e3c9c",
   "metadata": {},
   "outputs": [],
   "source": [
    "cbt.drop(\"tweet_text\",axis=1,inplace=True)"
   ]
  },
  {
   "cell_type": "markdown",
   "id": "da669e29",
   "metadata": {},
   "source": [
    "# Since I am proceeding with binaruy classification so converting it into 2 categories cyberbully(1) and not cyberbullying (0)"
   ]
  },
  {
   "cell_type": "code",
   "execution_count": 17,
   "id": "f19b02e2",
   "metadata": {},
   "outputs": [
    {
     "data": {
      "text/plain": [
       "religion               0.167701\n",
       "age                    0.167575\n",
       "gender                 0.167177\n",
       "ethnicity              0.166925\n",
       "not_cyberbullying      0.166590\n",
       "other_cyberbullying    0.164032\n",
       "Name: cyberbullying_type, dtype: float64"
      ]
     },
     "execution_count": 17,
     "metadata": {},
     "output_type": "execute_result"
    }
   ],
   "source": [
    "cbt.cyberbullying_type.value_counts(normalize=True)"
   ]
  },
  {
   "cell_type": "code",
   "execution_count": 18,
   "id": "6d86bc32",
   "metadata": {},
   "outputs": [],
   "source": [
    "cbt['cyberbullying_type']=cbt['cyberbullying_type'].apply(lambda x:0 if x=='not_cyberbullying' else 1 )"
   ]
  },
  {
   "cell_type": "markdown",
   "id": "f6c172f1",
   "metadata": {},
   "source": [
    "# Checking data is balanced "
   ]
  },
  {
   "cell_type": "code",
   "execution_count": 19,
   "id": "98104723",
   "metadata": {},
   "outputs": [
    {
     "data": {
      "text/plain": [
       "1    83.341022\n",
       "0    16.658978\n",
       "Name: cyberbullying_type, dtype: float64"
      ]
     },
     "execution_count": 19,
     "metadata": {},
     "output_type": "execute_result"
    }
   ],
   "source": [
    "cbt.cyberbullying_type.value_counts(normalize=True)*100"
   ]
  },
  {
   "cell_type": "code",
   "execution_count": 20,
   "id": "ce85d788",
   "metadata": {},
   "outputs": [],
   "source": [
    "from nltk.stem import PorterStemmer"
   ]
  },
  {
   "cell_type": "code",
   "execution_count": 21,
   "id": "7da806b8",
   "metadata": {},
   "outputs": [],
   "source": [
    "pstem = PorterStemmer()"
   ]
  },
  {
   "cell_type": "markdown",
   "id": "50050483",
   "metadata": {},
   "source": [
    "!pip install wordcloud"
   ]
  },
  {
   "cell_type": "code",
   "execution_count": 22,
   "id": "16287c86",
   "metadata": {},
   "outputs": [],
   "source": [
    "wc= WordCloud()"
   ]
  },
  {
   "cell_type": "code",
   "execution_count": 23,
   "id": "ff6af12b",
   "metadata": {},
   "outputs": [
    {
     "data": {
      "text/plain": [
       "<wordcloud.wordcloud.WordCloud at 0x1c37088c990>"
      ]
     },
     "execution_count": 23,
     "metadata": {},
     "output_type": "execute_result"
    }
   ],
   "source": [
    "wc.generate(str(cbt.processed_text))"
   ]
  },
  {
   "cell_type": "markdown",
   "id": "51e17616",
   "metadata": {},
   "source": [
    "# Creating plot of words "
   ]
  },
  {
   "cell_type": "code",
   "execution_count": 24,
   "id": "d326ead7",
   "metadata": {},
   "outputs": [],
   "source": [
    "import matplotlib.pyplot as plt"
   ]
  },
  {
   "cell_type": "code",
   "execution_count": 25,
   "id": "019f80fe",
   "metadata": {},
   "outputs": [
    {
     "data": {
      "text/plain": [
       "<matplotlib.image.AxesImage at 0x1c371fad510>"
      ]
     },
     "execution_count": 25,
     "metadata": {},
     "output_type": "execute_result"
    },
    {
     "data": {
      "image/png": "[encoded data removed]",
      "text/plain": [
       "<Figure size 640x480 with 1 Axes>"
      ]
     },
     "metadata": {},
     "output_type": "display_data"
    }
   ],
   "source": [
    "plt.imshow(wc) # Most frequent words in the dataset "
   ]
  },
  {
   "cell_type": "code",
   "execution_count": 26,
   "id": "65eb2679",
   "metadata": {},
   "outputs": [
    {
     "data": {
      "text/plain": [
       "'raja5aab quickieleaks yes test god good bad indifferent weird whatever proves gods exist'"
      ]
     },
     "execution_count": 26,
     "metadata": {},
     "output_type": "execute_result"
    }
   ],
   "source": [
    "pstem.stem(cbt.processed_text[5])"
   ]
  },
  {
   "cell_type": "markdown",
   "id": "451b5667",
   "metadata": {},
   "source": [
    "!pip install textblob"
   ]
  },
  {
   "cell_type": "code",
   "execution_count": 27,
   "id": "01a850e7",
   "metadata": {},
   "outputs": [],
   "source": [
    "from textblob import TextBlob"
   ]
  },
  {
   "cell_type": "markdown",
   "id": "73f15b3b",
   "metadata": {},
   "source": [
    "# Creating function for lemmatization and convert the text and lemmatized text to the dataframe "
   ]
  },
  {
   "cell_type": "code",
   "execution_count": 28,
   "id": "319727ed",
   "metadata": {},
   "outputs": [
    {
     "data": {
      "text/html": [
       "<div>\n",
       "<style scoped>\n",
       "    .dataframe tbody tr th:only-of-type {\n",
       "        vertical-align: middle;\n",
       "    }\n",
       "\n",
       "    .dataframe tbody tr th {\n",
       "        vertical-align: top;\n",
       "    }\n",
       "\n",
       "    .dataframe thead th {\n",
       "        text-align: right;\n",
       "    }\n",
       "</style>\n",
       "<table border=\"1\" class=\"dataframe\">\n",
       "  <thead>\n",
       "    <tr style=\"text-align: right;\">\n",
       "      <th></th>\n",
       "      <th>cyberbullying_type</th>\n",
       "      <th>processed_text</th>\n",
       "      <th>lemmatized_text</th>\n",
       "    </tr>\n",
       "  </thead>\n",
       "  <tbody>\n",
       "    <tr>\n",
       "      <th>0</th>\n",
       "      <td>0</td>\n",
       "      <td>words katandandre food crapilicious mkr</td>\n",
       "      <td>word katandandre food crapilicious mkr</td>\n",
       "    </tr>\n",
       "    <tr>\n",
       "      <th>1</th>\n",
       "      <td>0</td>\n",
       "      <td>aussietv white mkr theblock imacelebrityau tod...</td>\n",
       "      <td>aussietv white mkr theblock imacelebrityau tod...</td>\n",
       "    </tr>\n",
       "    <tr>\n",
       "      <th>2</th>\n",
       "      <td>0</td>\n",
       "      <td>xochitlsuckkks classy whore red velvet cupcakes</td>\n",
       "      <td>xochitlsuckkks classy whore red velvet cupcakes</td>\n",
       "    </tr>\n",
       "    <tr>\n",
       "      <th>3</th>\n",
       "      <td>0</td>\n",
       "      <td>jason_gio meh p thanks heads concerned another...</td>\n",
       "      <td>jason_gio meh p thank head concern another ang...</td>\n",
       "    </tr>\n",
       "    <tr>\n",
       "      <th>4</th>\n",
       "      <td>0</td>\n",
       "      <td>rudhoeenglish isis account pretending kurdish ...</td>\n",
       "      <td>rudhoeenglish isis account pretend kurdish acc...</td>\n",
       "    </tr>\n",
       "    <tr>\n",
       "      <th>...</th>\n",
       "      <td>...</td>\n",
       "      <td>...</td>\n",
       "      <td>...</td>\n",
       "    </tr>\n",
       "    <tr>\n",
       "      <th>47687</th>\n",
       "      <td>1</td>\n",
       "      <td>black ppl arent expected anything depended any...</td>\n",
       "      <td>black ppl arent expect anything depend anythin...</td>\n",
       "    </tr>\n",
       "    <tr>\n",
       "      <th>47688</th>\n",
       "      <td>1</td>\n",
       "      <td>turner withhold disappointment turner called c...</td>\n",
       "      <td>turner withhold disappointment turner call cou...</td>\n",
       "    </tr>\n",
       "    <tr>\n",
       "      <th>47689</th>\n",
       "      <td>1</td>\n",
       "      <td>swear god dumb nigger bitch got bleach hair re...</td>\n",
       "      <td>swear god dumb nigger bitch get bleach hair re...</td>\n",
       "    </tr>\n",
       "    <tr>\n",
       "      <th>47690</th>\n",
       "      <td>1</td>\n",
       "      <td>yea fuck rt therealexel youre nigger fucking u...</td>\n",
       "      <td>yea fuck rt therealexel youre nigger fuck unfo...</td>\n",
       "    </tr>\n",
       "    <tr>\n",
       "      <th>47691</th>\n",
       "      <td>1</td>\n",
       "      <td>bro u got ta chill rt chillshrammy dog fuck kp...</td>\n",
       "      <td>bro u get ta chill rt chillshrammy dog fuck kp...</td>\n",
       "    </tr>\n",
       "  </tbody>\n",
       "</table>\n",
       "<p>47692 rows × 3 columns</p>\n",
       "</div>"
      ],
      "text/plain": [
       "       cyberbullying_type                                     processed_text  \\\n",
       "0                       0            words katandandre food crapilicious mkr   \n",
       "1                       0  aussietv white mkr theblock imacelebrityau tod...   \n",
       "2                       0    xochitlsuckkks classy whore red velvet cupcakes   \n",
       "3                       0  jason_gio meh p thanks heads concerned another...   \n",
       "4                       0  rudhoeenglish isis account pretending kurdish ...   \n",
       "...                   ...                                                ...   \n",
       "47687                   1  black ppl arent expected anything depended any...   \n",
       "47688                   1  turner withhold disappointment turner called c...   \n",
       "47689                   1  swear god dumb nigger bitch got bleach hair re...   \n",
       "47690                   1  yea fuck rt therealexel youre nigger fucking u...   \n",
       "47691                   1  bro u got ta chill rt chillshrammy dog fuck kp...   \n",
       "\n",
       "                                         lemmatized_text  \n",
       "0                 word katandandre food crapilicious mkr  \n",
       "1      aussietv white mkr theblock imacelebrityau tod...  \n",
       "2        xochitlsuckkks classy whore red velvet cupcakes  \n",
       "3      jason_gio meh p thank head concern another ang...  \n",
       "4      rudhoeenglish isis account pretend kurdish acc...  \n",
       "...                                                  ...  \n",
       "47687  black ppl arent expect anything depend anythin...  \n",
       "47688  turner withhold disappointment turner call cou...  \n",
       "47689  swear god dumb nigger bitch get bleach hair re...  \n",
       "47690  yea fuck rt therealexel youre nigger fuck unfo...  \n",
       "47691  bro u get ta chill rt chillshrammy dog fuck kp...  \n",
       "\n",
       "[47692 rows x 3 columns]"
      ]
     },
     "execution_count": 28,
     "metadata": {},
     "output_type": "execute_result"
    }
   ],
   "source": [
    "import pandas as pd\n",
    "import nltk\n",
    "from nltk.corpus import wordnet\n",
    "from nltk.stem import WordNetLemmatizer\n",
    "\n",
    "# Download necessary NLTK resources\n",
    "#nltk.download('punkt')\n",
    "#nltk.download('wordnet')\n",
    "\n",
    "\n",
    "\n",
    "# Function to perform lemmatization\n",
    "def lemmatize_text(text):\n",
    "    lemmatizer = WordNetLemmatizer()\n",
    "    tokens = nltk.word_tokenize(text)\n",
    "    lemmatized_text = ' '.join([lemmatizer.lemmatize(word, wordnet.VERB) for word in tokens])\n",
    "    return lemmatized_text\n",
    "\n",
    "# Apply lemmatization to the 'text' column and store the result in a new column 'lemmatized_text'\n",
    "cbt['lemmatized_text'] = cbt['processed_text'].apply(lemmatize_text)\n",
    "\n",
    "# Display the DataFrame with the lemmatized text\n",
    "cbt\n"
   ]
  },
  {
   "cell_type": "code",
   "execution_count": 29,
   "id": "e705e917",
   "metadata": {},
   "outputs": [],
   "source": [
    "from sklearn.feature_extraction.text import TfidfVectorizer\n",
    "from sklearn.ensemble import RandomForestClassifier,GradientBoostingClassifier,AdaBoostClassifier\n",
    "from sklearn.model_selection import GridSearchCV,train_test_split"
   ]
  },
  {
   "cell_type": "markdown",
   "id": "bb8443f1",
   "metadata": {},
   "source": [
    "# Dropping the text column"
   ]
  },
  {
   "cell_type": "code",
   "execution_count": 30,
   "id": "555632fd",
   "metadata": {},
   "outputs": [],
   "source": [
    "cbt.drop(\"processed_text\",axis=1,inplace=True)"
   ]
  },
  {
   "cell_type": "markdown",
   "id": "2b7d78d9",
   "metadata": {},
   "source": [
    "# Splitting it into x, y variables "
   ]
  },
  {
   "cell_type": "code",
   "execution_count": 31,
   "id": "be8abe43",
   "metadata": {},
   "outputs": [],
   "source": [
    "x= cbt.lemmatized_text\n",
    "y=cbt.cyberbullying_type"
   ]
  },
  {
   "cell_type": "code",
   "execution_count": 32,
   "id": "4d13df58",
   "metadata": {},
   "outputs": [],
   "source": [
    "import scipy.stats as stats"
   ]
  },
  {
   "cell_type": "code",
   "execution_count": 33,
   "id": "3a85ee25",
   "metadata": {},
   "outputs": [],
   "source": [
    "xtrain , xtest, ytrain , ytest = train_test_split(x,y, test_size=0.3 , stratify=y,random_state=30)"
   ]
  },
  {
   "cell_type": "markdown",
   "id": "0882ef78",
   "metadata": {},
   "source": [
    "# Tranforming the text into 0 and 1 "
   ]
  },
  {
   "cell_type": "code",
   "execution_count": 34,
   "id": "95041925",
   "metadata": {},
   "outputs": [],
   "source": [
    "tf_idf=TfidfVectorizer()"
   ]
  },
  {
   "cell_type": "code",
   "execution_count": 35,
   "id": "f1758387",
   "metadata": {},
   "outputs": [],
   "source": [
    "xtrain_tf=tf_idf.fit_transform(xtrain)\n",
    "xtest_tf=tf_idf.transform(xtest)"
   ]
  },
  {
   "cell_type": "markdown",
   "id": "f236228c",
   "metadata": {},
   "source": [
    "# 48199 are features are formed "
   ]
  },
  {
   "cell_type": "code",
   "execution_count": 36,
   "id": "886b90da",
   "metadata": {},
   "outputs": [
    {
     "data": {
      "text/plain": [
       "48199"
      ]
     },
     "execution_count": 36,
     "metadata": {},
     "output_type": "execute_result"
    }
   ],
   "source": [
    "len(xtrain_tf.toarray()[0])"
   ]
  },
  {
   "cell_type": "code",
   "execution_count": 37,
   "id": "cee491ed",
   "metadata": {},
   "outputs": [
    {
     "data": {
      "text/plain": [
       "48199"
      ]
     },
     "execution_count": 37,
     "metadata": {},
     "output_type": "execute_result"
    }
   ],
   "source": [
    "len(tf_idf.get_feature_names_out())"
   ]
  },
  {
   "cell_type": "markdown",
   "id": "6d60ca72",
   "metadata": {},
   "source": [
    "# Creating dataframe for train and test"
   ]
  },
  {
   "cell_type": "code",
   "execution_count": 38,
   "id": "2d43480a",
   "metadata": {},
   "outputs": [],
   "source": [
    "train = pd.DataFrame(xtrain_tf.toarray(),columns=tf_idf.get_feature_names_out())"
   ]
  },
  {
   "cell_type": "code",
   "execution_count": 39,
   "id": "45ac4c86",
   "metadata": {},
   "outputs": [
    {
     "data": {
      "text/html": [
       "<div>\n",
       "<style scoped>\n",
       "    .dataframe tbody tr th:only-of-type {\n",
       "        vertical-align: middle;\n",
       "    }\n",
       "\n",
       "    .dataframe tbody tr th {\n",
       "        vertical-align: top;\n",
       "    }\n",
       "\n",
       "    .dataframe thead th {\n",
       "        text-align: right;\n",
       "    }\n",
       "</style>\n",
       "<table border=\"1\" class=\"dataframe\">\n",
       "  <thead>\n",
       "    <tr style=\"text-align: right;\">\n",
       "      <th></th>\n",
       "      <th>00</th>\n",
       "      <th>000</th>\n",
       "      <th>0006</th>\n",
       "      <th>0021</th>\n",
       "      <th>007</th>\n",
       "      <th>007alisohrab</th>\n",
       "      <th>007luis</th>\n",
       "      <th>00s</th>\n",
       "      <th>00simmerforlife</th>\n",
       "      <th>01</th>\n",
       "      <th>...</th>\n",
       "      <th>𝔂𝓸𝓾</th>\n",
       "      <th>𝕕𝕖𝕦𝕥𝕔𝕙</th>\n",
       "      <th>𝕙𝕒𝕣𝕣𝕚𝕤𝕠𝕟</th>\n",
       "      <th>𝕠𝕘</th>\n",
       "      <th>𝕣𝕠𝕟𝕟𝕚𝕖</th>\n",
       "      <th>𝕥𝕙𝕖</th>\n",
       "      <th>𝕧𝕖𝕣𝕠𝕟𝕚𝕔𝕒</th>\n",
       "      <th>𝕫𝕠𝕖𝕪</th>\n",
       "      <th>𝚎𝚕𝚞𝚜𝚒𝚟𝚎</th>\n",
       "      <th>𝟧𝟪</th>\n",
       "    </tr>\n",
       "  </thead>\n",
       "  <tbody>\n",
       "    <tr>\n",
       "      <th>0</th>\n",
       "      <td>0.0</td>\n",
       "      <td>0.0</td>\n",
       "      <td>0.0</td>\n",
       "      <td>0.0</td>\n",
       "      <td>0.0</td>\n",
       "      <td>0.0</td>\n",
       "      <td>0.0</td>\n",
       "      <td>0.0</td>\n",
       "      <td>0.0</td>\n",
       "      <td>0.0</td>\n",
       "      <td>...</td>\n",
       "      <td>0.0</td>\n",
       "      <td>0.0</td>\n",
       "      <td>0.0</td>\n",
       "      <td>0.0</td>\n",
       "      <td>0.0</td>\n",
       "      <td>0.0</td>\n",
       "      <td>0.0</td>\n",
       "      <td>0.0</td>\n",
       "      <td>0.0</td>\n",
       "      <td>0.0</td>\n",
       "    </tr>\n",
       "    <tr>\n",
       "      <th>1</th>\n",
       "      <td>0.0</td>\n",
       "      <td>0.0</td>\n",
       "      <td>0.0</td>\n",
       "      <td>0.0</td>\n",
       "      <td>0.0</td>\n",
       "      <td>0.0</td>\n",
       "      <td>0.0</td>\n",
       "      <td>0.0</td>\n",
       "      <td>0.0</td>\n",
       "      <td>0.0</td>\n",
       "      <td>...</td>\n",
       "      <td>0.0</td>\n",
       "      <td>0.0</td>\n",
       "      <td>0.0</td>\n",
       "      <td>0.0</td>\n",
       "      <td>0.0</td>\n",
       "      <td>0.0</td>\n",
       "      <td>0.0</td>\n",
       "      <td>0.0</td>\n",
       "      <td>0.0</td>\n",
       "      <td>0.0</td>\n",
       "    </tr>\n",
       "    <tr>\n",
       "      <th>2</th>\n",
       "      <td>0.0</td>\n",
       "      <td>0.0</td>\n",
       "      <td>0.0</td>\n",
       "      <td>0.0</td>\n",
       "      <td>0.0</td>\n",
       "      <td>0.0</td>\n",
       "      <td>0.0</td>\n",
       "      <td>0.0</td>\n",
       "      <td>0.0</td>\n",
       "      <td>0.0</td>\n",
       "      <td>...</td>\n",
       "      <td>0.0</td>\n",
       "      <td>0.0</td>\n",
       "      <td>0.0</td>\n",
       "      <td>0.0</td>\n",
       "      <td>0.0</td>\n",
       "      <td>0.0</td>\n",
       "      <td>0.0</td>\n",
       "      <td>0.0</td>\n",
       "      <td>0.0</td>\n",
       "      <td>0.0</td>\n",
       "    </tr>\n",
       "    <tr>\n",
       "      <th>3</th>\n",
       "      <td>0.0</td>\n",
       "      <td>0.0</td>\n",
       "      <td>0.0</td>\n",
       "      <td>0.0</td>\n",
       "      <td>0.0</td>\n",
       "      <td>0.0</td>\n",
       "      <td>0.0</td>\n",
       "      <td>0.0</td>\n",
       "      <td>0.0</td>\n",
       "      <td>0.0</td>\n",
       "      <td>...</td>\n",
       "      <td>0.0</td>\n",
       "      <td>0.0</td>\n",
       "      <td>0.0</td>\n",
       "      <td>0.0</td>\n",
       "      <td>0.0</td>\n",
       "      <td>0.0</td>\n",
       "      <td>0.0</td>\n",
       "      <td>0.0</td>\n",
       "      <td>0.0</td>\n",
       "      <td>0.0</td>\n",
       "    </tr>\n",
       "    <tr>\n",
       "      <th>4</th>\n",
       "      <td>0.0</td>\n",
       "      <td>0.0</td>\n",
       "      <td>0.0</td>\n",
       "      <td>0.0</td>\n",
       "      <td>0.0</td>\n",
       "      <td>0.0</td>\n",
       "      <td>0.0</td>\n",
       "      <td>0.0</td>\n",
       "      <td>0.0</td>\n",
       "      <td>0.0</td>\n",
       "      <td>...</td>\n",
       "      <td>0.0</td>\n",
       "      <td>0.0</td>\n",
       "      <td>0.0</td>\n",
       "      <td>0.0</td>\n",
       "      <td>0.0</td>\n",
       "      <td>0.0</td>\n",
       "      <td>0.0</td>\n",
       "      <td>0.0</td>\n",
       "      <td>0.0</td>\n",
       "      <td>0.0</td>\n",
       "    </tr>\n",
       "  </tbody>\n",
       "</table>\n",
       "<p>5 rows × 48199 columns</p>\n",
       "</div>"
      ],
      "text/plain": [
       "    00  000  0006  0021  007  007alisohrab  007luis  00s  00simmerforlife  \\\n",
       "0  0.0  0.0   0.0   0.0  0.0           0.0      0.0  0.0              0.0   \n",
       "1  0.0  0.0   0.0   0.0  0.0           0.0      0.0  0.0              0.0   \n",
       "2  0.0  0.0   0.0   0.0  0.0           0.0      0.0  0.0              0.0   \n",
       "3  0.0  0.0   0.0   0.0  0.0           0.0      0.0  0.0              0.0   \n",
       "4  0.0  0.0   0.0   0.0  0.0           0.0      0.0  0.0              0.0   \n",
       "\n",
       "    01  ...  𝔂𝓸𝓾  𝕕𝕖𝕦𝕥𝕔𝕙  𝕙𝕒𝕣𝕣𝕚𝕤𝕠𝕟   𝕠𝕘  𝕣𝕠𝕟𝕟𝕚𝕖  𝕥𝕙𝕖  𝕧𝕖𝕣𝕠𝕟𝕚𝕔𝕒  𝕫𝕠𝕖𝕪  𝚎𝚕𝚞𝚜𝚒𝚟𝚎  \\\n",
       "0  0.0  ...  0.0     0.0       0.0  0.0     0.0  0.0       0.0   0.0      0.0   \n",
       "1  0.0  ...  0.0     0.0       0.0  0.0     0.0  0.0       0.0   0.0      0.0   \n",
       "2  0.0  ...  0.0     0.0       0.0  0.0     0.0  0.0       0.0   0.0      0.0   \n",
       "3  0.0  ...  0.0     0.0       0.0  0.0     0.0  0.0       0.0   0.0      0.0   \n",
       "4  0.0  ...  0.0     0.0       0.0  0.0     0.0  0.0       0.0   0.0      0.0   \n",
       "\n",
       "    𝟧𝟪  \n",
       "0  0.0  \n",
       "1  0.0  \n",
       "2  0.0  \n",
       "3  0.0  \n",
       "4  0.0  \n",
       "\n",
       "[5 rows x 48199 columns]"
      ]
     },
     "execution_count": 39,
     "metadata": {},
     "output_type": "execute_result"
    }
   ],
   "source": [
    "train.head()"
   ]
  },
  {
   "cell_type": "code",
   "execution_count": 40,
   "id": "87684b0a",
   "metadata": {},
   "outputs": [
    {
     "data": {
      "text/html": [
       "<div>\n",
       "<style scoped>\n",
       "    .dataframe tbody tr th:only-of-type {\n",
       "        vertical-align: middle;\n",
       "    }\n",
       "\n",
       "    .dataframe tbody tr th {\n",
       "        vertical-align: top;\n",
       "    }\n",
       "\n",
       "    .dataframe thead th {\n",
       "        text-align: right;\n",
       "    }\n",
       "</style>\n",
       "<table border=\"1\" class=\"dataframe\">\n",
       "  <thead>\n",
       "    <tr style=\"text-align: right;\">\n",
       "      <th></th>\n",
       "      <th>00</th>\n",
       "      <th>000</th>\n",
       "      <th>0006</th>\n",
       "      <th>0021</th>\n",
       "      <th>007</th>\n",
       "      <th>007alisohrab</th>\n",
       "      <th>007luis</th>\n",
       "      <th>00s</th>\n",
       "      <th>00simmerforlife</th>\n",
       "      <th>01</th>\n",
       "      <th>...</th>\n",
       "      <th>𝔂𝓸𝓾</th>\n",
       "      <th>𝕕𝕖𝕦𝕥𝕔𝕙</th>\n",
       "      <th>𝕙𝕒𝕣𝕣𝕚𝕤𝕠𝕟</th>\n",
       "      <th>𝕠𝕘</th>\n",
       "      <th>𝕣𝕠𝕟𝕟𝕚𝕖</th>\n",
       "      <th>𝕥𝕙𝕖</th>\n",
       "      <th>𝕧𝕖𝕣𝕠𝕟𝕚𝕔𝕒</th>\n",
       "      <th>𝕫𝕠𝕖𝕪</th>\n",
       "      <th>𝚎𝚕𝚞𝚜𝚒𝚟𝚎</th>\n",
       "      <th>𝟧𝟪</th>\n",
       "    </tr>\n",
       "  </thead>\n",
       "  <tbody>\n",
       "    <tr>\n",
       "      <th>0</th>\n",
       "      <td>0.0</td>\n",
       "      <td>0.0</td>\n",
       "      <td>0.0</td>\n",
       "      <td>0.0</td>\n",
       "      <td>0.0</td>\n",
       "      <td>0.0</td>\n",
       "      <td>0.0</td>\n",
       "      <td>0.0</td>\n",
       "      <td>0.0</td>\n",
       "      <td>0.0</td>\n",
       "      <td>...</td>\n",
       "      <td>0.0</td>\n",
       "      <td>0.0</td>\n",
       "      <td>0.0</td>\n",
       "      <td>0.0</td>\n",
       "      <td>0.0</td>\n",
       "      <td>0.0</td>\n",
       "      <td>0.0</td>\n",
       "      <td>0.0</td>\n",
       "      <td>0.0</td>\n",
       "      <td>0.0</td>\n",
       "    </tr>\n",
       "    <tr>\n",
       "      <th>1</th>\n",
       "      <td>0.0</td>\n",
       "      <td>0.0</td>\n",
       "      <td>0.0</td>\n",
       "      <td>0.0</td>\n",
       "      <td>0.0</td>\n",
       "      <td>0.0</td>\n",
       "      <td>0.0</td>\n",
       "      <td>0.0</td>\n",
       "      <td>0.0</td>\n",
       "      <td>0.0</td>\n",
       "      <td>...</td>\n",
       "      <td>0.0</td>\n",
       "      <td>0.0</td>\n",
       "      <td>0.0</td>\n",
       "      <td>0.0</td>\n",
       "      <td>0.0</td>\n",
       "      <td>0.0</td>\n",
       "      <td>0.0</td>\n",
       "      <td>0.0</td>\n",
       "      <td>0.0</td>\n",
       "      <td>0.0</td>\n",
       "    </tr>\n",
       "    <tr>\n",
       "      <th>2</th>\n",
       "      <td>0.0</td>\n",
       "      <td>0.0</td>\n",
       "      <td>0.0</td>\n",
       "      <td>0.0</td>\n",
       "      <td>0.0</td>\n",
       "      <td>0.0</td>\n",
       "      <td>0.0</td>\n",
       "      <td>0.0</td>\n",
       "      <td>0.0</td>\n",
       "      <td>0.0</td>\n",
       "      <td>...</td>\n",
       "      <td>0.0</td>\n",
       "      <td>0.0</td>\n",
       "      <td>0.0</td>\n",
       "      <td>0.0</td>\n",
       "      <td>0.0</td>\n",
       "      <td>0.0</td>\n",
       "      <td>0.0</td>\n",
       "      <td>0.0</td>\n",
       "      <td>0.0</td>\n",
       "      <td>0.0</td>\n",
       "    </tr>\n",
       "    <tr>\n",
       "      <th>3</th>\n",
       "      <td>0.0</td>\n",
       "      <td>0.0</td>\n",
       "      <td>0.0</td>\n",
       "      <td>0.0</td>\n",
       "      <td>0.0</td>\n",
       "      <td>0.0</td>\n",
       "      <td>0.0</td>\n",
       "      <td>0.0</td>\n",
       "      <td>0.0</td>\n",
       "      <td>0.0</td>\n",
       "      <td>...</td>\n",
       "      <td>0.0</td>\n",
       "      <td>0.0</td>\n",
       "      <td>0.0</td>\n",
       "      <td>0.0</td>\n",
       "      <td>0.0</td>\n",
       "      <td>0.0</td>\n",
       "      <td>0.0</td>\n",
       "      <td>0.0</td>\n",
       "      <td>0.0</td>\n",
       "      <td>0.0</td>\n",
       "    </tr>\n",
       "    <tr>\n",
       "      <th>4</th>\n",
       "      <td>0.0</td>\n",
       "      <td>0.0</td>\n",
       "      <td>0.0</td>\n",
       "      <td>0.0</td>\n",
       "      <td>0.0</td>\n",
       "      <td>0.0</td>\n",
       "      <td>0.0</td>\n",
       "      <td>0.0</td>\n",
       "      <td>0.0</td>\n",
       "      <td>0.0</td>\n",
       "      <td>...</td>\n",
       "      <td>0.0</td>\n",
       "      <td>0.0</td>\n",
       "      <td>0.0</td>\n",
       "      <td>0.0</td>\n",
       "      <td>0.0</td>\n",
       "      <td>0.0</td>\n",
       "      <td>0.0</td>\n",
       "      <td>0.0</td>\n",
       "      <td>0.0</td>\n",
       "      <td>0.0</td>\n",
       "    </tr>\n",
       "    <tr>\n",
       "      <th>...</th>\n",
       "      <td>...</td>\n",
       "      <td>...</td>\n",
       "      <td>...</td>\n",
       "      <td>...</td>\n",
       "      <td>...</td>\n",
       "      <td>...</td>\n",
       "      <td>...</td>\n",
       "      <td>...</td>\n",
       "      <td>...</td>\n",
       "      <td>...</td>\n",
       "      <td>...</td>\n",
       "      <td>...</td>\n",
       "      <td>...</td>\n",
       "      <td>...</td>\n",
       "      <td>...</td>\n",
       "      <td>...</td>\n",
       "      <td>...</td>\n",
       "      <td>...</td>\n",
       "      <td>...</td>\n",
       "      <td>...</td>\n",
       "      <td>...</td>\n",
       "    </tr>\n",
       "    <tr>\n",
       "      <th>33379</th>\n",
       "      <td>0.0</td>\n",
       "      <td>0.0</td>\n",
       "      <td>0.0</td>\n",
       "      <td>0.0</td>\n",
       "      <td>0.0</td>\n",
       "      <td>0.0</td>\n",
       "      <td>0.0</td>\n",
       "      <td>0.0</td>\n",
       "      <td>0.0</td>\n",
       "      <td>0.0</td>\n",
       "      <td>...</td>\n",
       "      <td>0.0</td>\n",
       "      <td>0.0</td>\n",
       "      <td>0.0</td>\n",
       "      <td>0.0</td>\n",
       "      <td>0.0</td>\n",
       "      <td>0.0</td>\n",
       "      <td>0.0</td>\n",
       "      <td>0.0</td>\n",
       "      <td>0.0</td>\n",
       "      <td>0.0</td>\n",
       "    </tr>\n",
       "    <tr>\n",
       "      <th>33380</th>\n",
       "      <td>0.0</td>\n",
       "      <td>0.0</td>\n",
       "      <td>0.0</td>\n",
       "      <td>0.0</td>\n",
       "      <td>0.0</td>\n",
       "      <td>0.0</td>\n",
       "      <td>0.0</td>\n",
       "      <td>0.0</td>\n",
       "      <td>0.0</td>\n",
       "      <td>0.0</td>\n",
       "      <td>...</td>\n",
       "      <td>0.0</td>\n",
       "      <td>0.0</td>\n",
       "      <td>0.0</td>\n",
       "      <td>0.0</td>\n",
       "      <td>0.0</td>\n",
       "      <td>0.0</td>\n",
       "      <td>0.0</td>\n",
       "      <td>0.0</td>\n",
       "      <td>0.0</td>\n",
       "      <td>0.0</td>\n",
       "    </tr>\n",
       "    <tr>\n",
       "      <th>33381</th>\n",
       "      <td>0.0</td>\n",
       "      <td>0.0</td>\n",
       "      <td>0.0</td>\n",
       "      <td>0.0</td>\n",
       "      <td>0.0</td>\n",
       "      <td>0.0</td>\n",
       "      <td>0.0</td>\n",
       "      <td>0.0</td>\n",
       "      <td>0.0</td>\n",
       "      <td>0.0</td>\n",
       "      <td>...</td>\n",
       "      <td>0.0</td>\n",
       "      <td>0.0</td>\n",
       "      <td>0.0</td>\n",
       "      <td>0.0</td>\n",
       "      <td>0.0</td>\n",
       "      <td>0.0</td>\n",
       "      <td>0.0</td>\n",
       "      <td>0.0</td>\n",
       "      <td>0.0</td>\n",
       "      <td>0.0</td>\n",
       "    </tr>\n",
       "    <tr>\n",
       "      <th>33382</th>\n",
       "      <td>0.0</td>\n",
       "      <td>0.0</td>\n",
       "      <td>0.0</td>\n",
       "      <td>0.0</td>\n",
       "      <td>0.0</td>\n",
       "      <td>0.0</td>\n",
       "      <td>0.0</td>\n",
       "      <td>0.0</td>\n",
       "      <td>0.0</td>\n",
       "      <td>0.0</td>\n",
       "      <td>...</td>\n",
       "      <td>0.0</td>\n",
       "      <td>0.0</td>\n",
       "      <td>0.0</td>\n",
       "      <td>0.0</td>\n",
       "      <td>0.0</td>\n",
       "      <td>0.0</td>\n",
       "      <td>0.0</td>\n",
       "      <td>0.0</td>\n",
       "      <td>0.0</td>\n",
       "      <td>0.0</td>\n",
       "    </tr>\n",
       "    <tr>\n",
       "      <th>33383</th>\n",
       "      <td>0.0</td>\n",
       "      <td>0.0</td>\n",
       "      <td>0.0</td>\n",
       "      <td>0.0</td>\n",
       "      <td>0.0</td>\n",
       "      <td>0.0</td>\n",
       "      <td>0.0</td>\n",
       "      <td>0.0</td>\n",
       "      <td>0.0</td>\n",
       "      <td>0.0</td>\n",
       "      <td>...</td>\n",
       "      <td>0.0</td>\n",
       "      <td>0.0</td>\n",
       "      <td>0.0</td>\n",
       "      <td>0.0</td>\n",
       "      <td>0.0</td>\n",
       "      <td>0.0</td>\n",
       "      <td>0.0</td>\n",
       "      <td>0.0</td>\n",
       "      <td>0.0</td>\n",
       "      <td>0.0</td>\n",
       "    </tr>\n",
       "  </tbody>\n",
       "</table>\n",
       "<p>33384 rows × 48199 columns</p>\n",
       "</div>"
      ],
      "text/plain": [
       "        00  000  0006  0021  007  007alisohrab  007luis  00s  00simmerforlife  \\\n",
       "0      0.0  0.0   0.0   0.0  0.0           0.0      0.0  0.0              0.0   \n",
       "1      0.0  0.0   0.0   0.0  0.0           0.0      0.0  0.0              0.0   \n",
       "2      0.0  0.0   0.0   0.0  0.0           0.0      0.0  0.0              0.0   \n",
       "3      0.0  0.0   0.0   0.0  0.0           0.0      0.0  0.0              0.0   \n",
       "4      0.0  0.0   0.0   0.0  0.0           0.0      0.0  0.0              0.0   \n",
       "...    ...  ...   ...   ...  ...           ...      ...  ...              ...   \n",
       "33379  0.0  0.0   0.0   0.0  0.0           0.0      0.0  0.0              0.0   \n",
       "33380  0.0  0.0   0.0   0.0  0.0           0.0      0.0  0.0              0.0   \n",
       "33381  0.0  0.0   0.0   0.0  0.0           0.0      0.0  0.0              0.0   \n",
       "33382  0.0  0.0   0.0   0.0  0.0           0.0      0.0  0.0              0.0   \n",
       "33383  0.0  0.0   0.0   0.0  0.0           0.0      0.0  0.0              0.0   \n",
       "\n",
       "        01  ...  𝔂𝓸𝓾  𝕕𝕖𝕦𝕥𝕔𝕙  𝕙𝕒𝕣𝕣𝕚𝕤𝕠𝕟   𝕠𝕘  𝕣𝕠𝕟𝕟𝕚𝕖  𝕥𝕙𝕖  𝕧𝕖𝕣𝕠𝕟𝕚𝕔𝕒  𝕫𝕠𝕖𝕪  \\\n",
       "0      0.0  ...  0.0     0.0       0.0  0.0     0.0  0.0       0.0   0.0   \n",
       "1      0.0  ...  0.0     0.0       0.0  0.0     0.0  0.0       0.0   0.0   \n",
       "2      0.0  ...  0.0     0.0       0.0  0.0     0.0  0.0       0.0   0.0   \n",
       "3      0.0  ...  0.0     0.0       0.0  0.0     0.0  0.0       0.0   0.0   \n",
       "4      0.0  ...  0.0     0.0       0.0  0.0     0.0  0.0       0.0   0.0   \n",
       "...    ...  ...  ...     ...       ...  ...     ...  ...       ...   ...   \n",
       "33379  0.0  ...  0.0     0.0       0.0  0.0     0.0  0.0       0.0   0.0   \n",
       "33380  0.0  ...  0.0     0.0       0.0  0.0     0.0  0.0       0.0   0.0   \n",
       "33381  0.0  ...  0.0     0.0       0.0  0.0     0.0  0.0       0.0   0.0   \n",
       "33382  0.0  ...  0.0     0.0       0.0  0.0     0.0  0.0       0.0   0.0   \n",
       "33383  0.0  ...  0.0     0.0       0.0  0.0     0.0  0.0       0.0   0.0   \n",
       "\n",
       "       𝚎𝚕𝚞𝚜𝚒𝚟𝚎   𝟧𝟪  \n",
       "0          0.0  0.0  \n",
       "1          0.0  0.0  \n",
       "2          0.0  0.0  \n",
       "3          0.0  0.0  \n",
       "4          0.0  0.0  \n",
       "...        ...  ...  \n",
       "33379      0.0  0.0  \n",
       "33380      0.0  0.0  \n",
       "33381      0.0  0.0  \n",
       "33382      0.0  0.0  \n",
       "33383      0.0  0.0  \n",
       "\n",
       "[33384 rows x 48199 columns]"
      ]
     },
     "execution_count": 40,
     "metadata": {},
     "output_type": "execute_result"
    }
   ],
   "source": [
    "train"
   ]
  },
  {
   "cell_type": "code",
   "execution_count": 41,
   "id": "5543ddad",
   "metadata": {},
   "outputs": [],
   "source": [
    "test = pd.DataFrame(xtest_tf.toarray(),columns=tf_idf.get_feature_names_out())"
   ]
  },
  {
   "cell_type": "code",
   "execution_count": 42,
   "id": "12f92e5a",
   "metadata": {},
   "outputs": [
    {
     "data": {
      "text/html": [
       "<div>\n",
       "<style scoped>\n",
       "    .dataframe tbody tr th:only-of-type {\n",
       "        vertical-align: middle;\n",
       "    }\n",
       "\n",
       "    .dataframe tbody tr th {\n",
       "        vertical-align: top;\n",
       "    }\n",
       "\n",
       "    .dataframe thead th {\n",
       "        text-align: right;\n",
       "    }\n",
       "</style>\n",
       "<table border=\"1\" class=\"dataframe\">\n",
       "  <thead>\n",
       "    <tr style=\"text-align: right;\">\n",
       "      <th></th>\n",
       "      <th>00</th>\n",
       "      <th>000</th>\n",
       "      <th>0006</th>\n",
       "      <th>0021</th>\n",
       "      <th>007</th>\n",
       "      <th>007alisohrab</th>\n",
       "      <th>007luis</th>\n",
       "      <th>00s</th>\n",
       "      <th>00simmerforlife</th>\n",
       "      <th>01</th>\n",
       "      <th>...</th>\n",
       "      <th>𝔂𝓸𝓾</th>\n",
       "      <th>𝕕𝕖𝕦𝕥𝕔𝕙</th>\n",
       "      <th>𝕙𝕒𝕣𝕣𝕚𝕤𝕠𝕟</th>\n",
       "      <th>𝕠𝕘</th>\n",
       "      <th>𝕣𝕠𝕟𝕟𝕚𝕖</th>\n",
       "      <th>𝕥𝕙𝕖</th>\n",
       "      <th>𝕧𝕖𝕣𝕠𝕟𝕚𝕔𝕒</th>\n",
       "      <th>𝕫𝕠𝕖𝕪</th>\n",
       "      <th>𝚎𝚕𝚞𝚜𝚒𝚟𝚎</th>\n",
       "      <th>𝟧𝟪</th>\n",
       "    </tr>\n",
       "  </thead>\n",
       "  <tbody>\n",
       "    <tr>\n",
       "      <th>0</th>\n",
       "      <td>0.0</td>\n",
       "      <td>0.0</td>\n",
       "      <td>0.0</td>\n",
       "      <td>0.0</td>\n",
       "      <td>0.0</td>\n",
       "      <td>0.0</td>\n",
       "      <td>0.0</td>\n",
       "      <td>0.0</td>\n",
       "      <td>0.0</td>\n",
       "      <td>0.0</td>\n",
       "      <td>...</td>\n",
       "      <td>0.0</td>\n",
       "      <td>0.0</td>\n",
       "      <td>0.0</td>\n",
       "      <td>0.0</td>\n",
       "      <td>0.0</td>\n",
       "      <td>0.0</td>\n",
       "      <td>0.0</td>\n",
       "      <td>0.0</td>\n",
       "      <td>0.0</td>\n",
       "      <td>0.0</td>\n",
       "    </tr>\n",
       "    <tr>\n",
       "      <th>1</th>\n",
       "      <td>0.0</td>\n",
       "      <td>0.0</td>\n",
       "      <td>0.0</td>\n",
       "      <td>0.0</td>\n",
       "      <td>0.0</td>\n",
       "      <td>0.0</td>\n",
       "      <td>0.0</td>\n",
       "      <td>0.0</td>\n",
       "      <td>0.0</td>\n",
       "      <td>0.0</td>\n",
       "      <td>...</td>\n",
       "      <td>0.0</td>\n",
       "      <td>0.0</td>\n",
       "      <td>0.0</td>\n",
       "      <td>0.0</td>\n",
       "      <td>0.0</td>\n",
       "      <td>0.0</td>\n",
       "      <td>0.0</td>\n",
       "      <td>0.0</td>\n",
       "      <td>0.0</td>\n",
       "      <td>0.0</td>\n",
       "    </tr>\n",
       "    <tr>\n",
       "      <th>2</th>\n",
       "      <td>0.0</td>\n",
       "      <td>0.0</td>\n",
       "      <td>0.0</td>\n",
       "      <td>0.0</td>\n",
       "      <td>0.0</td>\n",
       "      <td>0.0</td>\n",
       "      <td>0.0</td>\n",
       "      <td>0.0</td>\n",
       "      <td>0.0</td>\n",
       "      <td>0.0</td>\n",
       "      <td>...</td>\n",
       "      <td>0.0</td>\n",
       "      <td>0.0</td>\n",
       "      <td>0.0</td>\n",
       "      <td>0.0</td>\n",
       "      <td>0.0</td>\n",
       "      <td>0.0</td>\n",
       "      <td>0.0</td>\n",
       "      <td>0.0</td>\n",
       "      <td>0.0</td>\n",
       "      <td>0.0</td>\n",
       "    </tr>\n",
       "    <tr>\n",
       "      <th>3</th>\n",
       "      <td>0.0</td>\n",
       "      <td>0.0</td>\n",
       "      <td>0.0</td>\n",
       "      <td>0.0</td>\n",
       "      <td>0.0</td>\n",
       "      <td>0.0</td>\n",
       "      <td>0.0</td>\n",
       "      <td>0.0</td>\n",
       "      <td>0.0</td>\n",
       "      <td>0.0</td>\n",
       "      <td>...</td>\n",
       "      <td>0.0</td>\n",
       "      <td>0.0</td>\n",
       "      <td>0.0</td>\n",
       "      <td>0.0</td>\n",
       "      <td>0.0</td>\n",
       "      <td>0.0</td>\n",
       "      <td>0.0</td>\n",
       "      <td>0.0</td>\n",
       "      <td>0.0</td>\n",
       "      <td>0.0</td>\n",
       "    </tr>\n",
       "    <tr>\n",
       "      <th>4</th>\n",
       "      <td>0.0</td>\n",
       "      <td>0.0</td>\n",
       "      <td>0.0</td>\n",
       "      <td>0.0</td>\n",
       "      <td>0.0</td>\n",
       "      <td>0.0</td>\n",
       "      <td>0.0</td>\n",
       "      <td>0.0</td>\n",
       "      <td>0.0</td>\n",
       "      <td>0.0</td>\n",
       "      <td>...</td>\n",
       "      <td>0.0</td>\n",
       "      <td>0.0</td>\n",
       "      <td>0.0</td>\n",
       "      <td>0.0</td>\n",
       "      <td>0.0</td>\n",
       "      <td>0.0</td>\n",
       "      <td>0.0</td>\n",
       "      <td>0.0</td>\n",
       "      <td>0.0</td>\n",
       "      <td>0.0</td>\n",
       "    </tr>\n",
       "    <tr>\n",
       "      <th>...</th>\n",
       "      <td>...</td>\n",
       "      <td>...</td>\n",
       "      <td>...</td>\n",
       "      <td>...</td>\n",
       "      <td>...</td>\n",
       "      <td>...</td>\n",
       "      <td>...</td>\n",
       "      <td>...</td>\n",
       "      <td>...</td>\n",
       "      <td>...</td>\n",
       "      <td>...</td>\n",
       "      <td>...</td>\n",
       "      <td>...</td>\n",
       "      <td>...</td>\n",
       "      <td>...</td>\n",
       "      <td>...</td>\n",
       "      <td>...</td>\n",
       "      <td>...</td>\n",
       "      <td>...</td>\n",
       "      <td>...</td>\n",
       "      <td>...</td>\n",
       "    </tr>\n",
       "    <tr>\n",
       "      <th>14303</th>\n",
       "      <td>0.0</td>\n",
       "      <td>0.0</td>\n",
       "      <td>0.0</td>\n",
       "      <td>0.0</td>\n",
       "      <td>0.0</td>\n",
       "      <td>0.0</td>\n",
       "      <td>0.0</td>\n",
       "      <td>0.0</td>\n",
       "      <td>0.0</td>\n",
       "      <td>0.0</td>\n",
       "      <td>...</td>\n",
       "      <td>0.0</td>\n",
       "      <td>0.0</td>\n",
       "      <td>0.0</td>\n",
       "      <td>0.0</td>\n",
       "      <td>0.0</td>\n",
       "      <td>0.0</td>\n",
       "      <td>0.0</td>\n",
       "      <td>0.0</td>\n",
       "      <td>0.0</td>\n",
       "      <td>0.0</td>\n",
       "    </tr>\n",
       "    <tr>\n",
       "      <th>14304</th>\n",
       "      <td>0.0</td>\n",
       "      <td>0.0</td>\n",
       "      <td>0.0</td>\n",
       "      <td>0.0</td>\n",
       "      <td>0.0</td>\n",
       "      <td>0.0</td>\n",
       "      <td>0.0</td>\n",
       "      <td>0.0</td>\n",
       "      <td>0.0</td>\n",
       "      <td>0.0</td>\n",
       "      <td>...</td>\n",
       "      <td>0.0</td>\n",
       "      <td>0.0</td>\n",
       "      <td>0.0</td>\n",
       "      <td>0.0</td>\n",
       "      <td>0.0</td>\n",
       "      <td>0.0</td>\n",
       "      <td>0.0</td>\n",
       "      <td>0.0</td>\n",
       "      <td>0.0</td>\n",
       "      <td>0.0</td>\n",
       "    </tr>\n",
       "    <tr>\n",
       "      <th>14305</th>\n",
       "      <td>0.0</td>\n",
       "      <td>0.0</td>\n",
       "      <td>0.0</td>\n",
       "      <td>0.0</td>\n",
       "      <td>0.0</td>\n",
       "      <td>0.0</td>\n",
       "      <td>0.0</td>\n",
       "      <td>0.0</td>\n",
       "      <td>0.0</td>\n",
       "      <td>0.0</td>\n",
       "      <td>...</td>\n",
       "      <td>0.0</td>\n",
       "      <td>0.0</td>\n",
       "      <td>0.0</td>\n",
       "      <td>0.0</td>\n",
       "      <td>0.0</td>\n",
       "      <td>0.0</td>\n",
       "      <td>0.0</td>\n",
       "      <td>0.0</td>\n",
       "      <td>0.0</td>\n",
       "      <td>0.0</td>\n",
       "    </tr>\n",
       "    <tr>\n",
       "      <th>14306</th>\n",
       "      <td>0.0</td>\n",
       "      <td>0.0</td>\n",
       "      <td>0.0</td>\n",
       "      <td>0.0</td>\n",
       "      <td>0.0</td>\n",
       "      <td>0.0</td>\n",
       "      <td>0.0</td>\n",
       "      <td>0.0</td>\n",
       "      <td>0.0</td>\n",
       "      <td>0.0</td>\n",
       "      <td>...</td>\n",
       "      <td>0.0</td>\n",
       "      <td>0.0</td>\n",
       "      <td>0.0</td>\n",
       "      <td>0.0</td>\n",
       "      <td>0.0</td>\n",
       "      <td>0.0</td>\n",
       "      <td>0.0</td>\n",
       "      <td>0.0</td>\n",
       "      <td>0.0</td>\n",
       "      <td>0.0</td>\n",
       "    </tr>\n",
       "    <tr>\n",
       "      <th>14307</th>\n",
       "      <td>0.0</td>\n",
       "      <td>0.0</td>\n",
       "      <td>0.0</td>\n",
       "      <td>0.0</td>\n",
       "      <td>0.0</td>\n",
       "      <td>0.0</td>\n",
       "      <td>0.0</td>\n",
       "      <td>0.0</td>\n",
       "      <td>0.0</td>\n",
       "      <td>0.0</td>\n",
       "      <td>...</td>\n",
       "      <td>0.0</td>\n",
       "      <td>0.0</td>\n",
       "      <td>0.0</td>\n",
       "      <td>0.0</td>\n",
       "      <td>0.0</td>\n",
       "      <td>0.0</td>\n",
       "      <td>0.0</td>\n",
       "      <td>0.0</td>\n",
       "      <td>0.0</td>\n",
       "      <td>0.0</td>\n",
       "    </tr>\n",
       "  </tbody>\n",
       "</table>\n",
       "<p>14308 rows × 48199 columns</p>\n",
       "</div>"
      ],
      "text/plain": [
       "        00  000  0006  0021  007  007alisohrab  007luis  00s  00simmerforlife  \\\n",
       "0      0.0  0.0   0.0   0.0  0.0           0.0      0.0  0.0              0.0   \n",
       "1      0.0  0.0   0.0   0.0  0.0           0.0      0.0  0.0              0.0   \n",
       "2      0.0  0.0   0.0   0.0  0.0           0.0      0.0  0.0              0.0   \n",
       "3      0.0  0.0   0.0   0.0  0.0           0.0      0.0  0.0              0.0   \n",
       "4      0.0  0.0   0.0   0.0  0.0           0.0      0.0  0.0              0.0   \n",
       "...    ...  ...   ...   ...  ...           ...      ...  ...              ...   \n",
       "14303  0.0  0.0   0.0   0.0  0.0           0.0      0.0  0.0              0.0   \n",
       "14304  0.0  0.0   0.0   0.0  0.0           0.0      0.0  0.0              0.0   \n",
       "14305  0.0  0.0   0.0   0.0  0.0           0.0      0.0  0.0              0.0   \n",
       "14306  0.0  0.0   0.0   0.0  0.0           0.0      0.0  0.0              0.0   \n",
       "14307  0.0  0.0   0.0   0.0  0.0           0.0      0.0  0.0              0.0   \n",
       "\n",
       "        01  ...  𝔂𝓸𝓾  𝕕𝕖𝕦𝕥𝕔𝕙  𝕙𝕒𝕣𝕣𝕚𝕤𝕠𝕟   𝕠𝕘  𝕣𝕠𝕟𝕟𝕚𝕖  𝕥𝕙𝕖  𝕧𝕖𝕣𝕠𝕟𝕚𝕔𝕒  𝕫𝕠𝕖𝕪  \\\n",
       "0      0.0  ...  0.0     0.0       0.0  0.0     0.0  0.0       0.0   0.0   \n",
       "1      0.0  ...  0.0     0.0       0.0  0.0     0.0  0.0       0.0   0.0   \n",
       "2      0.0  ...  0.0     0.0       0.0  0.0     0.0  0.0       0.0   0.0   \n",
       "3      0.0  ...  0.0     0.0       0.0  0.0     0.0  0.0       0.0   0.0   \n",
       "4      0.0  ...  0.0     0.0       0.0  0.0     0.0  0.0       0.0   0.0   \n",
       "...    ...  ...  ...     ...       ...  ...     ...  ...       ...   ...   \n",
       "14303  0.0  ...  0.0     0.0       0.0  0.0     0.0  0.0       0.0   0.0   \n",
       "14304  0.0  ...  0.0     0.0       0.0  0.0     0.0  0.0       0.0   0.0   \n",
       "14305  0.0  ...  0.0     0.0       0.0  0.0     0.0  0.0       0.0   0.0   \n",
       "14306  0.0  ...  0.0     0.0       0.0  0.0     0.0  0.0       0.0   0.0   \n",
       "14307  0.0  ...  0.0     0.0       0.0  0.0     0.0  0.0       0.0   0.0   \n",
       "\n",
       "       𝚎𝚕𝚞𝚜𝚒𝚟𝚎   𝟧𝟪  \n",
       "0          0.0  0.0  \n",
       "1          0.0  0.0  \n",
       "2          0.0  0.0  \n",
       "3          0.0  0.0  \n",
       "4          0.0  0.0  \n",
       "...        ...  ...  \n",
       "14303      0.0  0.0  \n",
       "14304      0.0  0.0  \n",
       "14305      0.0  0.0  \n",
       "14306      0.0  0.0  \n",
       "14307      0.0  0.0  \n",
       "\n",
       "[14308 rows x 48199 columns]"
      ]
     },
     "execution_count": 42,
     "metadata": {},
     "output_type": "execute_result"
    }
   ],
   "source": [
    "test"
   ]
  },
  {
   "cell_type": "markdown",
   "id": "d583b92a",
   "metadata": {},
   "source": [
    "# Building models "
   ]
  },
  {
   "cell_type": "code",
   "execution_count": 43,
   "id": "2539f6fd",
   "metadata": {},
   "outputs": [],
   "source": [
    "from sklearn.linear_model import LogisticRegression"
   ]
  },
  {
   "cell_type": "code",
   "execution_count": 44,
   "id": "67a2580d",
   "metadata": {},
   "outputs": [],
   "source": [
    "base_lr= LogisticRegression()"
   ]
  },
  {
   "cell_type": "code",
   "execution_count": 45,
   "id": "de25ea47",
   "metadata": {},
   "outputs": [
    {
     "data": {
      "text/html": [
       "<style>#sk-container-id-1 {color: black;}#sk-container-id-1 pre{padding: 0;}#sk-container-id-1 div.sk-toggleable {background-color: white;}#sk-container-id-1 label.sk-toggleable__label {cursor: pointer;display: block;width: 100%;margin-bottom: 0;padding: 0.3em;box-sizing: border-box;text-align: center;}#sk-container-id-1 label.sk-toggleable__label-arrow:before {content: \"▸\";float: left;margin-right: 0.25em;color: #696969;}#sk-container-id-1 label.sk-toggleable__label-arrow:hover:before {color: black;}#sk-container-id-1 div.sk-estimator:hover label.sk-toggleable__label-arrow:before {color: black;}#sk-container-id-1 div.sk-toggleable__content {max-height: 0;max-width: 0;overflow: hidden;text-align: left;background-color: #f0f8ff;}#sk-container-id-1 div.sk-toggleable__content pre {margin: 0.2em;color: black;border-radius: 0.25em;background-color: #f0f8ff;}#sk-container-id-1 input.sk-toggleable__control:checked~div.sk-toggleable__content {max-height: 200px;max-width: 100%;overflow: auto;}#sk-container-id-1 input.sk-toggleable__control:checked~label.sk-toggleable__label-arrow:before {content: \"▾\";}#sk-container-id-1 div.sk-estimator input.sk-toggleable__control:checked~label.sk-toggleable__label {background-color: #d4ebff;}#sk-container-id-1 div.sk-label input.sk-toggleable__control:checked~label.sk-toggleable__label {background-color: #d4ebff;}#sk-container-id-1 input.sk-hidden--visually {border: 0;clip: rect(1px 1px 1px 1px);clip: rect(1px, 1px, 1px, 1px);height: 1px;margin: -1px;overflow: hidden;padding: 0;position: absolute;width: 1px;}#sk-container-id-1 div.sk-estimator {font-family: monospace;background-color: #f0f8ff;border: 1px dotted black;border-radius: 0.25em;box-sizing: border-box;margin-bottom: 0.5em;}#sk-container-id-1 div.sk-estimator:hover {background-color: #d4ebff;}#sk-container-id-1 div.sk-parallel-item::after {content: \"\";width: 100%;border-bottom: 1px solid gray;flex-grow: 1;}#sk-container-id-1 div.sk-label:hover label.sk-toggleable__label {background-color: #d4ebff;}#sk-container-id-1 div.sk-serial::before {content: \"\";position: absolute;border-left: 1px solid gray;box-sizing: border-box;top: 0;bottom: 0;left: 50%;z-index: 0;}#sk-container-id-1 div.sk-serial {display: flex;flex-direction: column;align-items: center;background-color: white;padding-right: 0.2em;padding-left: 0.2em;position: relative;}#sk-container-id-1 div.sk-item {position: relative;z-index: 1;}#sk-container-id-1 div.sk-parallel {display: flex;align-items: stretch;justify-content: center;background-color: white;position: relative;}#sk-container-id-1 div.sk-item::before, #sk-container-id-1 div.sk-parallel-item::before {content: \"\";position: absolute;border-left: 1px solid gray;box-sizing: border-box;top: 0;bottom: 0;left: 50%;z-index: -1;}#sk-container-id-1 div.sk-parallel-item {display: flex;flex-direction: column;z-index: 1;position: relative;background-color: white;}#sk-container-id-1 div.sk-parallel-item:first-child::after {align-self: flex-end;width: 50%;}#sk-container-id-1 div.sk-parallel-item:last-child::after {align-self: flex-start;width: 50%;}#sk-container-id-1 div.sk-parallel-item:only-child::after {width: 0;}#sk-container-id-1 div.sk-dashed-wrapped {border: 1px dashed gray;margin: 0 0.4em 0.5em 0.4em;box-sizing: border-box;padding-bottom: 0.4em;background-color: white;}#sk-container-id-1 div.sk-label label {font-family: monospace;font-weight: bold;display: inline-block;line-height: 1.2em;}#sk-container-id-1 div.sk-label-container {text-align: center;}#sk-container-id-1 div.sk-container {/* jupyter's `normalize.less` sets `[hidden] { display: none; }` but bootstrap.min.css set `[hidden] { display: none !important; }` so we also need the `!important` here to be able to override the default hidden behavior on the sphinx rendered scikit-learn.org. See: https://github.com/scikit-learn/scikit-learn/issues/21755 */display: inline-block !important;position: relative;}#sk-container-id-1 div.sk-text-repr-fallback {display: none;}</style><div id=\"sk-container-id-1\" class=\"sk-top-container\"><div class=\"sk-text-repr-fallback\"><pre>LogisticRegression()</pre><b>In a Jupyter environment, please rerun this cell to show the HTML representation or trust the notebook. <br />On GitHub, the HTML representation is unable to render, please try loading this page with nbviewer.org.</b></div><div class=\"sk-container\" hidden><div class=\"sk-item\"><div class=\"sk-estimator sk-toggleable\"><input class=\"sk-toggleable__control sk-hidden--visually\" id=\"sk-estimator-id-1\" type=\"checkbox\" checked><label for=\"sk-estimator-id-1\" class=\"sk-toggleable__label sk-toggleable__label-arrow\">LogisticRegression</label><div class=\"sk-toggleable__content\"><pre>LogisticRegression()</pre></div></div></div></div></div>"
      ],
      "text/plain": [
       "LogisticRegression()"
      ]
     },
     "execution_count": 45,
     "metadata": {},
     "output_type": "execute_result"
    }
   ],
   "source": [
    "base_lr.fit(train,ytrain)"
   ]
  },
  {
   "cell_type": "code",
   "execution_count": 46,
   "id": "e45b3698",
   "metadata": {},
   "outputs": [],
   "source": [
    "from sklearn.metrics import classification_report,confusion_matrix"
   ]
  },
  {
   "cell_type": "code",
   "execution_count": 47,
   "id": "bfa68aee",
   "metadata": {},
   "outputs": [
    {
     "name": "stdout",
     "output_type": "stream",
     "text": [
      "                classification report of logisitc model in train dataset is:\n",
      "              precision    recall  f1-score   support\n",
      "\n",
      "           0       0.89      0.46      0.61      5561\n",
      "           1       0.90      0.99      0.94     27823\n",
      "\n",
      "    accuracy                           0.90     33384\n",
      "   macro avg       0.90      0.72      0.77     33384\n",
      "weighted avg       0.90      0.90      0.89     33384\n",
      " "
     ]
    }
   ],
   "source": [
    "print('                classification report of logisitc model in train dataset is:')\n",
    "print(classification_report(ytrain,base_lr.predict(train)),end=' ')"
   ]
  },
  {
   "cell_type": "code",
   "execution_count": 48,
   "id": "20ec0c01",
   "metadata": {
    "scrolled": true
   },
   "outputs": [
    {
     "name": "stdout",
     "output_type": "stream",
     "text": [
      "                classification report of logisitc model in test dataset:\n",
      "              precision    recall  f1-score   support\n",
      "\n",
      "           0       0.74      0.34      0.47      2384\n",
      "           1       0.88      0.98      0.93     11924\n",
      "\n",
      "    accuracy                           0.87     14308\n",
      "   macro avg       0.81      0.66      0.70     14308\n",
      "weighted avg       0.86      0.87      0.85     14308\n",
      " "
     ]
    },
    {
     "name": "stderr",
     "output_type": "stream",
     "text": [
      "C:\\Users\\ashwi\\anaconda3\\Lib\\site-packages\\sklearn\\base.py:464: UserWarning: X does not have valid feature names, but LogisticRegression was fitted with feature names\n",
      "  warnings.warn(\n"
     ]
    }
   ],
   "source": [
    "print('                classification report of logisitc model in test dataset:')\n",
    "print(classification_report(ytest,base_lr.predict(xtest_tf)),end=' ')"
   ]
  },
  {
   "cell_type": "code",
   "execution_count": 49,
   "id": "3b706e89",
   "metadata": {},
   "outputs": [],
   "source": [
    "from sklearn.metrics import accuracy_score"
   ]
  },
  {
   "cell_type": "code",
   "execution_count": 50,
   "id": "3051d6e6",
   "metadata": {},
   "outputs": [
    {
     "name": "stderr",
     "output_type": "stream",
     "text": [
      "C:\\Users\\ashwi\\anaconda3\\Lib\\site-packages\\sklearn\\base.py:464: UserWarning: X does not have valid feature names, but LogisticRegression was fitted with feature names\n",
      "  warnings.warn(\n",
      "C:\\Users\\ashwi\\anaconda3\\Lib\\site-packages\\sklearn\\base.py:464: UserWarning: X does not have valid feature names, but LogisticRegression was fitted with feature names\n",
      "  warnings.warn(\n"
     ]
    }
   ],
   "source": [
    "performance = pd.DataFrame({'Model':['Logistic Reg'],'Train_acc':[accuracy_score(ytrain,base_lr.predict(xtrain_tf))]\n",
    "                           , 'Test_acc':[accuracy_score(ytest,base_lr.predict(xtest_tf))]\n",
    "                           \n",
    "                           \n",
    "                           \n",
    "                          ,'parameters':['default'], 'Remarks':['The difference between train and test is 0.03 within level of significance ']  })"
   ]
  },
  {
   "cell_type": "code",
   "execution_count": 51,
   "id": "29e006ed",
   "metadata": {},
   "outputs": [
    {
     "data": {
      "text/html": [
       "<div>\n",
       "<style scoped>\n",
       "    .dataframe tbody tr th:only-of-type {\n",
       "        vertical-align: middle;\n",
       "    }\n",
       "\n",
       "    .dataframe tbody tr th {\n",
       "        vertical-align: top;\n",
       "    }\n",
       "\n",
       "    .dataframe thead th {\n",
       "        text-align: right;\n",
       "    }\n",
       "</style>\n",
       "<table border=\"1\" class=\"dataframe\">\n",
       "  <thead>\n",
       "    <tr style=\"text-align: right;\">\n",
       "      <th></th>\n",
       "      <th>Model</th>\n",
       "      <th>Train_acc</th>\n",
       "      <th>Test_acc</th>\n",
       "      <th>parameters</th>\n",
       "      <th>Remarks</th>\n",
       "    </tr>\n",
       "  </thead>\n",
       "  <tbody>\n",
       "    <tr>\n",
       "      <th>0</th>\n",
       "      <td>Logistic Reg</td>\n",
       "      <td>0.900731</td>\n",
       "      <td>0.870772</td>\n",
       "      <td>default</td>\n",
       "      <td>The difference between train and test is 0.03 ...</td>\n",
       "    </tr>\n",
       "  </tbody>\n",
       "</table>\n",
       "</div>"
      ],
      "text/plain": [
       "          Model  Train_acc  Test_acc parameters  \\\n",
       "0  Logistic Reg   0.900731  0.870772    default   \n",
       "\n",
       "                                             Remarks  \n",
       "0  The difference between train and test is 0.03 ...  "
      ]
     },
     "execution_count": 51,
     "metadata": {},
     "output_type": "execute_result"
    }
   ],
   "source": [
    "performance"
   ]
  },
  {
   "cell_type": "code",
   "execution_count": 52,
   "id": "55a808cf",
   "metadata": {},
   "outputs": [
    {
     "data": {
      "text/plain": [
       "0                   word katandandre food crapilicious mkr\n",
       "1        aussietv white mkr theblock imacelebrityau tod...\n",
       "2          xochitlsuckkks classy whore red velvet cupcakes\n",
       "3        jason_gio meh p thank head concern another ang...\n",
       "4        rudhoeenglish isis account pretend kurdish acc...\n",
       "                               ...                        \n",
       "47687    black ppl arent expect anything depend anythin...\n",
       "47688    turner withhold disappointment turner call cou...\n",
       "47689    swear god dumb nigger bitch get bleach hair re...\n",
       "47690    yea fuck rt therealexel youre nigger fuck unfo...\n",
       "47691    bro u get ta chill rt chillshrammy dog fuck kp...\n",
       "Name: lemmatized_text, Length: 47692, dtype: object"
      ]
     },
     "execution_count": 52,
     "metadata": {},
     "output_type": "execute_result"
    }
   ],
   "source": [
    "x"
   ]
  },
  {
   "cell_type": "code",
   "execution_count": 53,
   "id": "e6e7d890",
   "metadata": {},
   "outputs": [],
   "source": [
    "r= RandomForestClassifier()"
   ]
  },
  {
   "cell_type": "code",
   "execution_count": 54,
   "id": "7b0edabb",
   "metadata": {},
   "outputs": [
    {
     "data": {
      "text/html": [
       "<style>#sk-container-id-2 {color: black;}#sk-container-id-2 pre{padding: 0;}#sk-container-id-2 div.sk-toggleable {background-color: white;}#sk-container-id-2 label.sk-toggleable__label {cursor: pointer;display: block;width: 100%;margin-bottom: 0;padding: 0.3em;box-sizing: border-box;text-align: center;}#sk-container-id-2 label.sk-toggleable__label-arrow:before {content: \"▸\";float: left;margin-right: 0.25em;color: #696969;}#sk-container-id-2 label.sk-toggleable__label-arrow:hover:before {color: black;}#sk-container-id-2 div.sk-estimator:hover label.sk-toggleable__label-arrow:before {color: black;}#sk-container-id-2 div.sk-toggleable__content {max-height: 0;max-width: 0;overflow: hidden;text-align: left;background-color: #f0f8ff;}#sk-container-id-2 div.sk-toggleable__content pre {margin: 0.2em;color: black;border-radius: 0.25em;background-color: #f0f8ff;}#sk-container-id-2 input.sk-toggleable__control:checked~div.sk-toggleable__content {max-height: 200px;max-width: 100%;overflow: auto;}#sk-container-id-2 input.sk-toggleable__control:checked~label.sk-toggleable__label-arrow:before {content: \"▾\";}#sk-container-id-2 div.sk-estimator input.sk-toggleable__control:checked~label.sk-toggleable__label {background-color: #d4ebff;}#sk-container-id-2 div.sk-label input.sk-toggleable__control:checked~label.sk-toggleable__label {background-color: #d4ebff;}#sk-container-id-2 input.sk-hidden--visually {border: 0;clip: rect(1px 1px 1px 1px);clip: rect(1px, 1px, 1px, 1px);height: 1px;margin: -1px;overflow: hidden;padding: 0;position: absolute;width: 1px;}#sk-container-id-2 div.sk-estimator {font-family: monospace;background-color: #f0f8ff;border: 1px dotted black;border-radius: 0.25em;box-sizing: border-box;margin-bottom: 0.5em;}#sk-container-id-2 div.sk-estimator:hover {background-color: #d4ebff;}#sk-container-id-2 div.sk-parallel-item::after {content: \"\";width: 100%;border-bottom: 1px solid gray;flex-grow: 1;}#sk-container-id-2 div.sk-label:hover label.sk-toggleable__label {background-color: #d4ebff;}#sk-container-id-2 div.sk-serial::before {content: \"\";position: absolute;border-left: 1px solid gray;box-sizing: border-box;top: 0;bottom: 0;left: 50%;z-index: 0;}#sk-container-id-2 div.sk-serial {display: flex;flex-direction: column;align-items: center;background-color: white;padding-right: 0.2em;padding-left: 0.2em;position: relative;}#sk-container-id-2 div.sk-item {position: relative;z-index: 1;}#sk-container-id-2 div.sk-parallel {display: flex;align-items: stretch;justify-content: center;background-color: white;position: relative;}#sk-container-id-2 div.sk-item::before, #sk-container-id-2 div.sk-parallel-item::before {content: \"\";position: absolute;border-left: 1px solid gray;box-sizing: border-box;top: 0;bottom: 0;left: 50%;z-index: -1;}#sk-container-id-2 div.sk-parallel-item {display: flex;flex-direction: column;z-index: 1;position: relative;background-color: white;}#sk-container-id-2 div.sk-parallel-item:first-child::after {align-self: flex-end;width: 50%;}#sk-container-id-2 div.sk-parallel-item:last-child::after {align-self: flex-start;width: 50%;}#sk-container-id-2 div.sk-parallel-item:only-child::after {width: 0;}#sk-container-id-2 div.sk-dashed-wrapped {border: 1px dashed gray;margin: 0 0.4em 0.5em 0.4em;box-sizing: border-box;padding-bottom: 0.4em;background-color: white;}#sk-container-id-2 div.sk-label label {font-family: monospace;font-weight: bold;display: inline-block;line-height: 1.2em;}#sk-container-id-2 div.sk-label-container {text-align: center;}#sk-container-id-2 div.sk-container {/* jupyter's `normalize.less` sets `[hidden] { display: none; }` but bootstrap.min.css set `[hidden] { display: none !important; }` so we also need the `!important` here to be able to override the default hidden behavior on the sphinx rendered scikit-learn.org. See: https://github.com/scikit-learn/scikit-learn/issues/21755 */display: inline-block !important;position: relative;}#sk-container-id-2 div.sk-text-repr-fallback {display: none;}</style><div id=\"sk-container-id-2\" class=\"sk-top-container\"><div class=\"sk-text-repr-fallback\"><pre>RandomForestClassifier()</pre><b>In a Jupyter environment, please rerun this cell to show the HTML representation or trust the notebook. <br />On GitHub, the HTML representation is unable to render, please try loading this page with nbviewer.org.</b></div><div class=\"sk-container\" hidden><div class=\"sk-item\"><div class=\"sk-estimator sk-toggleable\"><input class=\"sk-toggleable__control sk-hidden--visually\" id=\"sk-estimator-id-2\" type=\"checkbox\" checked><label for=\"sk-estimator-id-2\" class=\"sk-toggleable__label sk-toggleable__label-arrow\">RandomForestClassifier</label><div class=\"sk-toggleable__content\"><pre>RandomForestClassifier()</pre></div></div></div></div></div>"
      ],
      "text/plain": [
       "RandomForestClassifier()"
      ]
     },
     "execution_count": 54,
     "metadata": {},
     "output_type": "execute_result"
    }
   ],
   "source": [
    "r.fit(train,ytrain)"
   ]
  },
  {
   "cell_type": "code",
   "execution_count": 55,
   "id": "b2cbd625",
   "metadata": {},
   "outputs": [],
   "source": [
    "import seaborn as sns\n"
   ]
  },
  {
   "cell_type": "code",
   "execution_count": 56,
   "id": "22b8bf04",
   "metadata": {
    "scrolled": true
   },
   "outputs": [
    {
     "name": "stdout",
     "output_type": "stream",
     "text": [
      "                classification report of Random forest model in train dataset is:\n",
      "              precision    recall  f1-score   support\n",
      "\n",
      "           0       0.96      0.90      0.93      5561\n",
      "           1       0.98      0.99      0.99     27823\n",
      "\n",
      "    accuracy                           0.98     33384\n",
      "   macro avg       0.97      0.95      0.96     33384\n",
      "weighted avg       0.98      0.98      0.98     33384\n",
      "                 classification report of Random forest in test dataset:\n"
     ]
    },
    {
     "name": "stderr",
     "output_type": "stream",
     "text": [
      "C:\\Users\\ashwi\\anaconda3\\Lib\\site-packages\\sklearn\\base.py:464: UserWarning: X does not have valid feature names, but RandomForestClassifier was fitted with feature names\n",
      "  warnings.warn(\n"
     ]
    },
    {
     "name": "stdout",
     "output_type": "stream",
     "text": [
      "              precision    recall  f1-score   support\n",
      "\n",
      "           0       0.60      0.39      0.47      2384\n",
      "           1       0.89      0.95      0.92     11924\n",
      "\n",
      "    accuracy                           0.86     14308\n",
      "   macro avg       0.74      0.67      0.69     14308\n",
      "weighted avg       0.84      0.86      0.84     14308\n",
      " "
     ]
    }
   ],
   "source": [
    "print('                classification report of Random forest model in train dataset is:')\n",
    "print(classification_report(ytrain,r.predict(train)),end=' ')\n",
    "\n",
    "print('                classification report of Random forest in test dataset:')\n",
    "print(classification_report(ytest,r.predict(xtest_tf)),end=' ')"
   ]
  },
  {
   "cell_type": "code",
   "execution_count": 57,
   "id": "dde2c700",
   "metadata": {},
   "outputs": [],
   "source": [
    "t= pd.DataFrame(r.feature_importances_,index=r.feature_names_in_,columns=['Feature_imp'])"
   ]
  },
  {
   "cell_type": "code",
   "execution_count": 58,
   "id": "94e65361",
   "metadata": {},
   "outputs": [
    {
     "data": {
      "text/html": [
       "<div>\n",
       "<style scoped>\n",
       "    .dataframe tbody tr th:only-of-type {\n",
       "        vertical-align: middle;\n",
       "    }\n",
       "\n",
       "    .dataframe tbody tr th {\n",
       "        vertical-align: top;\n",
       "    }\n",
       "\n",
       "    .dataframe thead th {\n",
       "        text-align: right;\n",
       "    }\n",
       "</style>\n",
       "<table border=\"1\" class=\"dataframe\">\n",
       "  <thead>\n",
       "    <tr style=\"text-align: right;\">\n",
       "      <th></th>\n",
       "      <th>Feature_imp</th>\n",
       "    </tr>\n",
       "  </thead>\n",
       "  <tbody>\n",
       "    <tr>\n",
       "      <th>mkr</th>\n",
       "      <td>0.033350</td>\n",
       "    </tr>\n",
       "    <tr>\n",
       "      <th>school</th>\n",
       "      <td>0.014630</td>\n",
       "    </tr>\n",
       "    <tr>\n",
       "      <th>bully</th>\n",
       "      <td>0.012085</td>\n",
       "    </tr>\n",
       "    <tr>\n",
       "      <th>fuck</th>\n",
       "      <td>0.010884</td>\n",
       "    </tr>\n",
       "    <tr>\n",
       "      <th>dumb</th>\n",
       "      <td>0.010474</td>\n",
       "    </tr>\n",
       "    <tr>\n",
       "      <th>...</th>\n",
       "      <td>...</td>\n",
       "    </tr>\n",
       "    <tr>\n",
       "      <th>profamily</th>\n",
       "      <td>0.000000</td>\n",
       "    </tr>\n",
       "    <tr>\n",
       "      <th>profane</th>\n",
       "      <td>0.000000</td>\n",
       "    </tr>\n",
       "    <tr>\n",
       "      <th>empresssudol</th>\n",
       "      <td>0.000000</td>\n",
       "    </tr>\n",
       "    <tr>\n",
       "      <th>empkamikaze</th>\n",
       "      <td>0.000000</td>\n",
       "    </tr>\n",
       "    <tr>\n",
       "      <th>𝟧𝟪</th>\n",
       "      <td>0.000000</td>\n",
       "    </tr>\n",
       "  </tbody>\n",
       "</table>\n",
       "<p>48199 rows × 1 columns</p>\n",
       "</div>"
      ],
      "text/plain": [
       "              Feature_imp\n",
       "mkr              0.033350\n",
       "school           0.014630\n",
       "bully            0.012085\n",
       "fuck             0.010884\n",
       "dumb             0.010474\n",
       "...                   ...\n",
       "profamily        0.000000\n",
       "profane          0.000000\n",
       "empresssudol     0.000000\n",
       "empkamikaze      0.000000\n",
       "𝟧𝟪               0.000000\n",
       "\n",
       "[48199 rows x 1 columns]"
      ]
     },
     "execution_count": 58,
     "metadata": {},
     "output_type": "execute_result"
    }
   ],
   "source": [
    "t.sort_values(by='Feature_imp',ascending=False)"
   ]
  },
  {
   "cell_type": "code",
   "execution_count": 59,
   "id": "dc0ddb8e",
   "metadata": {},
   "outputs": [
    {
     "name": "stderr",
     "output_type": "stream",
     "text": [
      "C:\\Users\\ashwi\\anaconda3\\Lib\\site-packages\\sklearn\\base.py:464: UserWarning: X does not have valid feature names, but RandomForestClassifier was fitted with feature names\n",
      "  warnings.warn(\n",
      "C:\\Users\\ashwi\\anaconda3\\Lib\\site-packages\\sklearn\\base.py:464: UserWarning: X does not have valid feature names, but RandomForestClassifier was fitted with feature names\n",
      "  warnings.warn(\n"
     ]
    }
   ],
   "source": [
    "performance = pd.concat([performance, pd.DataFrame({'Model':['Random forest'],'Train_acc':[accuracy_score(ytrain,r.predict(xtrain_tf))]\n",
    "                           , 'Test_acc':[accuracy_score(ytest,r.predict(xtest_tf))]\n",
    "                           \n",
    "                           \n",
    "                           \n",
    "                          ,'parameters':['default'], 'Remarks':['The difference between train and test is 0.12 which is not within level of significance ']  })])"
   ]
  },
  {
   "cell_type": "code",
   "execution_count": 60,
   "id": "8bb6e7a5",
   "metadata": {},
   "outputs": [
    {
     "data": {
      "text/html": [
       "<div>\n",
       "<style scoped>\n",
       "    .dataframe tbody tr th:only-of-type {\n",
       "        vertical-align: middle;\n",
       "    }\n",
       "\n",
       "    .dataframe tbody tr th {\n",
       "        vertical-align: top;\n",
       "    }\n",
       "\n",
       "    .dataframe thead th {\n",
       "        text-align: right;\n",
       "    }\n",
       "</style>\n",
       "<table border=\"1\" class=\"dataframe\">\n",
       "  <thead>\n",
       "    <tr style=\"text-align: right;\">\n",
       "      <th></th>\n",
       "      <th>Model</th>\n",
       "      <th>Train_acc</th>\n",
       "      <th>Test_acc</th>\n",
       "      <th>parameters</th>\n",
       "      <th>Remarks</th>\n",
       "    </tr>\n",
       "  </thead>\n",
       "  <tbody>\n",
       "    <tr>\n",
       "      <th>0</th>\n",
       "      <td>Logistic Reg</td>\n",
       "      <td>0.900731</td>\n",
       "      <td>0.870772</td>\n",
       "      <td>default</td>\n",
       "      <td>The difference between train and test is 0.03 ...</td>\n",
       "    </tr>\n",
       "    <tr>\n",
       "      <th>0</th>\n",
       "      <td>Random forest</td>\n",
       "      <td>0.977414</td>\n",
       "      <td>0.855116</td>\n",
       "      <td>default</td>\n",
       "      <td>The difference between train and test is 0.12 ...</td>\n",
       "    </tr>\n",
       "  </tbody>\n",
       "</table>\n",
       "</div>"
      ],
      "text/plain": [
       "           Model  Train_acc  Test_acc parameters  \\\n",
       "0   Logistic Reg   0.900731  0.870772    default   \n",
       "0  Random forest   0.977414  0.855116    default   \n",
       "\n",
       "                                             Remarks  \n",
       "0  The difference between train and test is 0.03 ...  \n",
       "0  The difference between train and test is 0.12 ...  "
      ]
     },
     "execution_count": 60,
     "metadata": {},
     "output_type": "execute_result"
    }
   ],
   "source": [
    "performance"
   ]
  },
  {
   "cell_type": "code",
   "execution_count": 61,
   "id": "a859b885",
   "metadata": {},
   "outputs": [
    {
     "data": {
      "text/html": [
       "<div>\n",
       "<style scoped>\n",
       "    .dataframe tbody tr th:only-of-type {\n",
       "        vertical-align: middle;\n",
       "    }\n",
       "\n",
       "    .dataframe tbody tr th {\n",
       "        vertical-align: top;\n",
       "    }\n",
       "\n",
       "    .dataframe thead th {\n",
       "        text-align: right;\n",
       "    }\n",
       "</style>\n",
       "<table border=\"1\" class=\"dataframe\">\n",
       "  <thead>\n",
       "    <tr style=\"text-align: right;\">\n",
       "      <th></th>\n",
       "      <th>Model</th>\n",
       "      <th>Train_acc</th>\n",
       "      <th>Test_acc</th>\n",
       "      <th>parameters</th>\n",
       "      <th>Remarks</th>\n",
       "    </tr>\n",
       "  </thead>\n",
       "  <tbody>\n",
       "    <tr>\n",
       "      <th>0</th>\n",
       "      <td>Logistic Reg</td>\n",
       "      <td>0.900731</td>\n",
       "      <td>0.870772</td>\n",
       "      <td>default</td>\n",
       "      <td>The difference between train and test is 0.03 ...</td>\n",
       "    </tr>\n",
       "    <tr>\n",
       "      <th>0</th>\n",
       "      <td>Random forest</td>\n",
       "      <td>0.977414</td>\n",
       "      <td>0.855116</td>\n",
       "      <td>default</td>\n",
       "      <td>The difference between train and test is 0.12 ...</td>\n",
       "    </tr>\n",
       "  </tbody>\n",
       "</table>\n",
       "</div>"
      ],
      "text/plain": [
       "           Model  Train_acc  Test_acc parameters  \\\n",
       "0   Logistic Reg   0.900731  0.870772    default   \n",
       "0  Random forest   0.977414  0.855116    default   \n",
       "\n",
       "                                             Remarks  \n",
       "0  The difference between train and test is 0.03 ...  \n",
       "0  The difference between train and test is 0.12 ...  "
      ]
     },
     "execution_count": 61,
     "metadata": {},
     "output_type": "execute_result"
    }
   ],
   "source": [
    "performance"
   ]
  },
  {
   "cell_type": "code",
   "execution_count": null,
   "id": "a11b632a",
   "metadata": {},
   "outputs": [],
   "source": []
  },
  {
   "cell_type": "code",
   "execution_count": 62,
   "id": "649452fb",
   "metadata": {},
   "outputs": [
    {
     "name": "stdout",
     "output_type": "stream",
     "text": [
      "                classification report of Random forest model in train dataset is:\n",
      "              precision    recall  f1-score   support\n",
      "\n",
      "           0       0.00      0.00      0.00      5561\n",
      "           1       0.83      1.00      0.91     27823\n",
      "\n",
      "    accuracy                           0.83     33384\n",
      "   macro avg       0.42      0.50      0.45     33384\n",
      "weighted avg       0.69      0.83      0.76     33384\n",
      "                 classification report of Random forest in test dataset:\n",
      "              precision    recall  f1-score   support\n",
      "\n",
      "           0       0.00      0.00      0.00      2384\n",
      "           1       0.83      1.00      0.91     11924\n",
      "\n",
      "    accuracy                           0.83     14308\n",
      "   macro avg       0.42      0.50      0.45     14308\n",
      "weighted avg       0.69      0.83      0.76     14308\n",
      " "
     ]
    },
    {
     "name": "stderr",
     "output_type": "stream",
     "text": [
      "C:\\Users\\ashwi\\anaconda3\\Lib\\site-packages\\sklearn\\metrics\\_classification.py:1469: UndefinedMetricWarning: Precision and F-score are ill-defined and being set to 0.0 in labels with no predicted samples. Use `zero_division` parameter to control this behavior.\n",
      "  _warn_prf(average, modifier, msg_start, len(result))\n",
      "C:\\Users\\ashwi\\anaconda3\\Lib\\site-packages\\sklearn\\metrics\\_classification.py:1469: UndefinedMetricWarning: Precision and F-score are ill-defined and being set to 0.0 in labels with no predicted samples. Use `zero_division` parameter to control this behavior.\n",
      "  _warn_prf(average, modifier, msg_start, len(result))\n",
      "C:\\Users\\ashwi\\anaconda3\\Lib\\site-packages\\sklearn\\metrics\\_classification.py:1469: UndefinedMetricWarning: Precision and F-score are ill-defined and being set to 0.0 in labels with no predicted samples. Use `zero_division` parameter to control this behavior.\n",
      "  _warn_prf(average, modifier, msg_start, len(result))\n",
      "C:\\Users\\ashwi\\anaconda3\\Lib\\site-packages\\sklearn\\base.py:464: UserWarning: X does not have valid feature names, but RandomForestClassifier was fitted with feature names\n",
      "  warnings.warn(\n",
      "C:\\Users\\ashwi\\anaconda3\\Lib\\site-packages\\sklearn\\metrics\\_classification.py:1469: UndefinedMetricWarning: Precision and F-score are ill-defined and being set to 0.0 in labels with no predicted samples. Use `zero_division` parameter to control this behavior.\n",
      "  _warn_prf(average, modifier, msg_start, len(result))\n",
      "C:\\Users\\ashwi\\anaconda3\\Lib\\site-packages\\sklearn\\metrics\\_classification.py:1469: UndefinedMetricWarning: Precision and F-score are ill-defined and being set to 0.0 in labels with no predicted samples. Use `zero_division` parameter to control this behavior.\n",
      "  _warn_prf(average, modifier, msg_start, len(result))\n",
      "C:\\Users\\ashwi\\anaconda3\\Lib\\site-packages\\sklearn\\metrics\\_classification.py:1469: UndefinedMetricWarning: Precision and F-score are ill-defined and being set to 0.0 in labels with no predicted samples. Use `zero_division` parameter to control this behavior.\n",
      "  _warn_prf(average, modifier, msg_start, len(result))\n"
     ]
    }
   ],
   "source": [
    "r2= RandomForestClassifier(n_estimators=120,n_jobs=-1, criterion='gini',\n",
    "    max_depth=4,\n",
    "    min_samples_split=6,\n",
    "    min_samples_leaf=5,\n",
    "\n",
    "    max_features='log2',)\n",
    "\n",
    "r2.fit(train,ytrain)\n",
    "\n",
    "import seaborn as sns\n",
    "\n",
    "\n",
    "print('                classification report of Random forest model in train dataset is:')\n",
    "print(classification_report(ytrain,r2.predict(train)),end=' ')\n",
    "\n",
    "print('                classification report of Random forest in test dataset:')\n",
    "print(classification_report(ytest,r2.predict(xtest_tf)),end=' ')"
   ]
  },
  {
   "cell_type": "code",
   "execution_count": 63,
   "id": "b96955a1",
   "metadata": {},
   "outputs": [
    {
     "name": "stderr",
     "output_type": "stream",
     "text": [
      "C:\\Users\\ashwi\\anaconda3\\Lib\\site-packages\\sklearn\\base.py:464: UserWarning: X does not have valid feature names, but RandomForestClassifier was fitted with feature names\n",
      "  warnings.warn(\n",
      "C:\\Users\\ashwi\\anaconda3\\Lib\\site-packages\\sklearn\\base.py:464: UserWarning: X does not have valid feature names, but RandomForestClassifier was fitted with feature names\n",
      "  warnings.warn(\n"
     ]
    }
   ],
   "source": [
    "performance = pd.concat([performance, pd.DataFrame({'Model':['Random forest 2'],'Train_acc':[accuracy_score(ytrain,r2.predict(xtrain_tf))]\n",
    "                           , 'Test_acc':[accuracy_score(ytest,r2.predict(xtest_tf))]\n",
    "                           \n",
    "                           \n",
    "                           \n",
    "                          ,'parameters':['n_estimators=120,n_jobs=-1, criterion=gini ,max_depth=4,min_samples_split=6,min_samples_leaf=5,max_features=log2'], 'Remarks':['The model is not able to identify class 0 ']  })])"
   ]
  },
  {
   "cell_type": "code",
   "execution_count": 64,
   "id": "ebf38df0",
   "metadata": {},
   "outputs": [
    {
     "data": {
      "text/html": [
       "<div>\n",
       "<style scoped>\n",
       "    .dataframe tbody tr th:only-of-type {\n",
       "        vertical-align: middle;\n",
       "    }\n",
       "\n",
       "    .dataframe tbody tr th {\n",
       "        vertical-align: top;\n",
       "    }\n",
       "\n",
       "    .dataframe thead th {\n",
       "        text-align: right;\n",
       "    }\n",
       "</style>\n",
       "<table border=\"1\" class=\"dataframe\">\n",
       "  <thead>\n",
       "    <tr style=\"text-align: right;\">\n",
       "      <th></th>\n",
       "      <th>Model</th>\n",
       "      <th>Train_acc</th>\n",
       "      <th>Test_acc</th>\n",
       "      <th>parameters</th>\n",
       "      <th>Remarks</th>\n",
       "    </tr>\n",
       "  </thead>\n",
       "  <tbody>\n",
       "    <tr>\n",
       "      <th>0</th>\n",
       "      <td>Logistic Reg</td>\n",
       "      <td>0.900731</td>\n",
       "      <td>0.870772</td>\n",
       "      <td>default</td>\n",
       "      <td>The difference between train and test is 0.03 ...</td>\n",
       "    </tr>\n",
       "    <tr>\n",
       "      <th>0</th>\n",
       "      <td>Random forest</td>\n",
       "      <td>0.977414</td>\n",
       "      <td>0.855116</td>\n",
       "      <td>default</td>\n",
       "      <td>The difference between train and test is 0.12 ...</td>\n",
       "    </tr>\n",
       "    <tr>\n",
       "      <th>0</th>\n",
       "      <td>Random forest 2</td>\n",
       "      <td>0.833423</td>\n",
       "      <td>0.833380</td>\n",
       "      <td>n_estimators=120,n_jobs=-1, criterion=gini ,ma...</td>\n",
       "      <td>The model is not able to identify class 0</td>\n",
       "    </tr>\n",
       "  </tbody>\n",
       "</table>\n",
       "</div>"
      ],
      "text/plain": [
       "             Model  Train_acc  Test_acc  \\\n",
       "0     Logistic Reg   0.900731  0.870772   \n",
       "0    Random forest   0.977414  0.855116   \n",
       "0  Random forest 2   0.833423  0.833380   \n",
       "\n",
       "                                          parameters  \\\n",
       "0                                            default   \n",
       "0                                            default   \n",
       "0  n_estimators=120,n_jobs=-1, criterion=gini ,ma...   \n",
       "\n",
       "                                             Remarks  \n",
       "0  The difference between train and test is 0.03 ...  \n",
       "0  The difference between train and test is 0.12 ...  \n",
       "0         The model is not able to identify class 0   "
      ]
     },
     "execution_count": 64,
     "metadata": {},
     "output_type": "execute_result"
    }
   ],
   "source": [
    "performance"
   ]
  },
  {
   "cell_type": "code",
   "execution_count": 65,
   "id": "907f4ef5",
   "metadata": {},
   "outputs": [
    {
     "name": "stdout",
     "output_type": "stream",
     "text": [
      "                classification report of Random forest model in train dataset is:\n",
      "              precision    recall  f1-score   support\n",
      "\n",
      "           0       0.00      0.00      0.00      5561\n",
      "           1       0.83      1.00      0.91     27823\n",
      "\n",
      "    accuracy                           0.83     33384\n",
      "   macro avg       0.42      0.50      0.45     33384\n",
      "weighted avg       0.69      0.83      0.76     33384\n",
      "                 classification report of Random forest in test dataset:\n",
      "              precision    recall  f1-score   support\n",
      "\n",
      "           0       0.00      0.00      0.00      2384\n",
      "           1       0.83      1.00      0.91     11924\n",
      "\n",
      "    accuracy                           0.83     14308\n",
      "   macro avg       0.42      0.50      0.45     14308\n",
      "weighted avg       0.69      0.83      0.76     14308\n",
      " "
     ]
    },
    {
     "name": "stderr",
     "output_type": "stream",
     "text": [
      "C:\\Users\\ashwi\\anaconda3\\Lib\\site-packages\\sklearn\\metrics\\_classification.py:1469: UndefinedMetricWarning: Precision and F-score are ill-defined and being set to 0.0 in labels with no predicted samples. Use `zero_division` parameter to control this behavior.\n",
      "  _warn_prf(average, modifier, msg_start, len(result))\n",
      "C:\\Users\\ashwi\\anaconda3\\Lib\\site-packages\\sklearn\\metrics\\_classification.py:1469: UndefinedMetricWarning: Precision and F-score are ill-defined and being set to 0.0 in labels with no predicted samples. Use `zero_division` parameter to control this behavior.\n",
      "  _warn_prf(average, modifier, msg_start, len(result))\n",
      "C:\\Users\\ashwi\\anaconda3\\Lib\\site-packages\\sklearn\\metrics\\_classification.py:1469: UndefinedMetricWarning: Precision and F-score are ill-defined and being set to 0.0 in labels with no predicted samples. Use `zero_division` parameter to control this behavior.\n",
      "  _warn_prf(average, modifier, msg_start, len(result))\n",
      "C:\\Users\\ashwi\\anaconda3\\Lib\\site-packages\\sklearn\\base.py:464: UserWarning: X does not have valid feature names, but RandomForestClassifier was fitted with feature names\n",
      "  warnings.warn(\n",
      "C:\\Users\\ashwi\\anaconda3\\Lib\\site-packages\\sklearn\\metrics\\_classification.py:1469: UndefinedMetricWarning: Precision and F-score are ill-defined and being set to 0.0 in labels with no predicted samples. Use `zero_division` parameter to control this behavior.\n",
      "  _warn_prf(average, modifier, msg_start, len(result))\n",
      "C:\\Users\\ashwi\\anaconda3\\Lib\\site-packages\\sklearn\\metrics\\_classification.py:1469: UndefinedMetricWarning: Precision and F-score are ill-defined and being set to 0.0 in labels with no predicted samples. Use `zero_division` parameter to control this behavior.\n",
      "  _warn_prf(average, modifier, msg_start, len(result))\n",
      "C:\\Users\\ashwi\\anaconda3\\Lib\\site-packages\\sklearn\\metrics\\_classification.py:1469: UndefinedMetricWarning: Precision and F-score are ill-defined and being set to 0.0 in labels with no predicted samples. Use `zero_division` parameter to control this behavior.\n",
      "  _warn_prf(average, modifier, msg_start, len(result))\n"
     ]
    }
   ],
   "source": [
    "r3= RandomForestClassifier(n_estimators=50,n_jobs=-1, criterion='gini',\n",
    "    max_depth=3,\n",
    "    min_samples_split=3,\n",
    "    min_samples_leaf=5,\n",
    "\n",
    "    max_features='sqrt',)\n",
    "\n",
    "r3.fit(train,ytrain)\n",
    "\n",
    "import seaborn as sns\n",
    "\n",
    "\n",
    "print('                classification report of Random forest model in train dataset is:')\n",
    "print(classification_report(ytrain,r3.predict(train)),end=' ')\n",
    "\n",
    "print('                classification report of Random forest in test dataset:')\n",
    "print(classification_report(ytest,r3.predict(xtest_tf)),end=' ')"
   ]
  },
  {
   "cell_type": "code",
   "execution_count": 66,
   "id": "da7547de",
   "metadata": {},
   "outputs": [
    {
     "name": "stderr",
     "output_type": "stream",
     "text": [
      "C:\\Users\\ashwi\\anaconda3\\Lib\\site-packages\\sklearn\\base.py:464: UserWarning: X does not have valid feature names, but RandomForestClassifier was fitted with feature names\n",
      "  warnings.warn(\n",
      "C:\\Users\\ashwi\\anaconda3\\Lib\\site-packages\\sklearn\\base.py:464: UserWarning: X does not have valid feature names, but RandomForestClassifier was fitted with feature names\n",
      "  warnings.warn(\n"
     ]
    }
   ],
   "source": [
    "performance = pd.concat([performance, pd.DataFrame({'Model':['Random forest 3'],'Train_acc':[accuracy_score(ytrain,r3.predict(xtrain_tf))]\n",
    "                           , 'Test_acc':[accuracy_score(ytest,r3.predict(xtest_tf))]\n",
    "                           \n",
    "                           \n",
    "                           \n",
    "                          ,'parameters':['n_estimators=50,n_jobs=-1, criterion=gini ,max_depth=3,min_samples_split=3,min_samples_leaf=5,max_features=sqrt'], 'Remarks':['The model is not able to identify class 0 ']  })])"
   ]
  },
  {
   "cell_type": "code",
   "execution_count": 67,
   "id": "6298bd38",
   "metadata": {},
   "outputs": [
    {
     "name": "stdout",
     "output_type": "stream",
     "text": [
      "                classification report of Random forest model in train dataset is:\n"
     ]
    },
    {
     "name": "stderr",
     "output_type": "stream",
     "text": [
      "C:\\Users\\ashwi\\anaconda3\\Lib\\site-packages\\sklearn\\metrics\\_classification.py:1469: UndefinedMetricWarning: Precision and F-score are ill-defined and being set to 0.0 in labels with no predicted samples. Use `zero_division` parameter to control this behavior.\n",
      "  _warn_prf(average, modifier, msg_start, len(result))\n",
      "C:\\Users\\ashwi\\anaconda3\\Lib\\site-packages\\sklearn\\metrics\\_classification.py:1469: UndefinedMetricWarning: Precision and F-score are ill-defined and being set to 0.0 in labels with no predicted samples. Use `zero_division` parameter to control this behavior.\n",
      "  _warn_prf(average, modifier, msg_start, len(result))\n",
      "C:\\Users\\ashwi\\anaconda3\\Lib\\site-packages\\sklearn\\metrics\\_classification.py:1469: UndefinedMetricWarning: Precision and F-score are ill-defined and being set to 0.0 in labels with no predicted samples. Use `zero_division` parameter to control this behavior.\n",
      "  _warn_prf(average, modifier, msg_start, len(result))\n",
      "C:\\Users\\ashwi\\anaconda3\\Lib\\site-packages\\sklearn\\base.py:464: UserWarning: X does not have valid feature names, but RandomForestClassifier was fitted with feature names\n",
      "  warnings.warn(\n"
     ]
    },
    {
     "name": "stdout",
     "output_type": "stream",
     "text": [
      "              precision    recall  f1-score   support\n",
      "\n",
      "           0       0.00      0.00      0.00      5561\n",
      "           1       0.83      1.00      0.91     27823\n",
      "\n",
      "    accuracy                           0.83     33384\n",
      "   macro avg       0.42      0.50      0.45     33384\n",
      "weighted avg       0.69      0.83      0.76     33384\n",
      "                 classification report of Random forest in test dataset:\n",
      "              precision    recall  f1-score   support\n",
      "\n",
      "           0       0.00      0.00      0.00      2384\n",
      "           1       0.83      1.00      0.91     11924\n",
      "\n",
      "    accuracy                           0.83     14308\n",
      "   macro avg       0.42      0.50      0.45     14308\n",
      "weighted avg       0.69      0.83      0.76     14308\n",
      " "
     ]
    },
    {
     "name": "stderr",
     "output_type": "stream",
     "text": [
      "C:\\Users\\ashwi\\anaconda3\\Lib\\site-packages\\sklearn\\metrics\\_classification.py:1469: UndefinedMetricWarning: Precision and F-score are ill-defined and being set to 0.0 in labels with no predicted samples. Use `zero_division` parameter to control this behavior.\n",
      "  _warn_prf(average, modifier, msg_start, len(result))\n",
      "C:\\Users\\ashwi\\anaconda3\\Lib\\site-packages\\sklearn\\metrics\\_classification.py:1469: UndefinedMetricWarning: Precision and F-score are ill-defined and being set to 0.0 in labels with no predicted samples. Use `zero_division` parameter to control this behavior.\n",
      "  _warn_prf(average, modifier, msg_start, len(result))\n",
      "C:\\Users\\ashwi\\anaconda3\\Lib\\site-packages\\sklearn\\metrics\\_classification.py:1469: UndefinedMetricWarning: Precision and F-score are ill-defined and being set to 0.0 in labels with no predicted samples. Use `zero_division` parameter to control this behavior.\n",
      "  _warn_prf(average, modifier, msg_start, len(result))\n"
     ]
    }
   ],
   "source": [
    "r4= RandomForestClassifier(n_estimators=110,n_jobs=-1, criterion='gini',\n",
    "    max_depth=2,\n",
    "    min_samples_split=2,\n",
    "    min_samples_leaf=2,\n",
    "\n",
    "    max_features='sqrt',)\n",
    "\n",
    "r4.fit(train,ytrain)\n",
    "\n",
    "import seaborn as sns\n",
    "\n",
    "\n",
    "print('                classification report of Random forest model in train dataset is:')\n",
    "print(classification_report(ytrain,r4.predict(train)),end=' ')\n",
    "\n",
    "print('                classification report of Random forest in test dataset:')\n",
    "print(classification_report(ytest,r4.predict(xtest_tf)),end=' ')"
   ]
  },
  {
   "cell_type": "code",
   "execution_count": 68,
   "id": "ea34a003",
   "metadata": {},
   "outputs": [
    {
     "name": "stderr",
     "output_type": "stream",
     "text": [
      "C:\\Users\\ashwi\\anaconda3\\Lib\\site-packages\\sklearn\\base.py:464: UserWarning: X does not have valid feature names, but RandomForestClassifier was fitted with feature names\n",
      "  warnings.warn(\n",
      "C:\\Users\\ashwi\\anaconda3\\Lib\\site-packages\\sklearn\\base.py:464: UserWarning: X does not have valid feature names, but RandomForestClassifier was fitted with feature names\n",
      "  warnings.warn(\n"
     ]
    }
   ],
   "source": [
    "performance = pd.concat([performance, pd.DataFrame({'Model':['Random forest 4'],'Train_acc':[accuracy_score(ytrain,r4.predict(xtrain_tf))]\n",
    "                           , 'Test_acc':[accuracy_score(ytest,r4.predict(xtest_tf))]\n",
    "                           \n",
    "                           \n",
    "                           \n",
    "                          ,'parameters':['n_estimators=110,n_jobs=-1, criterion=gini ,max_depth=2,min_samples_split=2,min_samples_leaf=2,max_features=sqrt'], 'Remarks':['The model is not able to identify class 0 ']  })])"
   ]
  },
  {
   "cell_type": "code",
   "execution_count": 69,
   "id": "bf3bb048",
   "metadata": {},
   "outputs": [
    {
     "data": {
      "text/html": [
       "<div>\n",
       "<style scoped>\n",
       "    .dataframe tbody tr th:only-of-type {\n",
       "        vertical-align: middle;\n",
       "    }\n",
       "\n",
       "    .dataframe tbody tr th {\n",
       "        vertical-align: top;\n",
       "    }\n",
       "\n",
       "    .dataframe thead th {\n",
       "        text-align: right;\n",
       "    }\n",
       "</style>\n",
       "<table border=\"1\" class=\"dataframe\">\n",
       "  <thead>\n",
       "    <tr style=\"text-align: right;\">\n",
       "      <th></th>\n",
       "      <th>Model</th>\n",
       "      <th>Train_acc</th>\n",
       "      <th>Test_acc</th>\n",
       "      <th>parameters</th>\n",
       "      <th>Remarks</th>\n",
       "    </tr>\n",
       "  </thead>\n",
       "  <tbody>\n",
       "    <tr>\n",
       "      <th>0</th>\n",
       "      <td>Logistic Reg</td>\n",
       "      <td>0.900731</td>\n",
       "      <td>0.870772</td>\n",
       "      <td>default</td>\n",
       "      <td>The difference between train and test is 0.03 ...</td>\n",
       "    </tr>\n",
       "    <tr>\n",
       "      <th>0</th>\n",
       "      <td>Random forest</td>\n",
       "      <td>0.977414</td>\n",
       "      <td>0.855116</td>\n",
       "      <td>default</td>\n",
       "      <td>The difference between train and test is 0.12 ...</td>\n",
       "    </tr>\n",
       "    <tr>\n",
       "      <th>0</th>\n",
       "      <td>Random forest 2</td>\n",
       "      <td>0.833423</td>\n",
       "      <td>0.833380</td>\n",
       "      <td>n_estimators=120,n_jobs=-1, criterion=gini ,ma...</td>\n",
       "      <td>The model is not able to identify class 0</td>\n",
       "    </tr>\n",
       "    <tr>\n",
       "      <th>0</th>\n",
       "      <td>Random forest 3</td>\n",
       "      <td>0.833423</td>\n",
       "      <td>0.833380</td>\n",
       "      <td>n_estimators=50,n_jobs=-1, criterion=gini ,max...</td>\n",
       "      <td>The model is not able to identify class 0</td>\n",
       "    </tr>\n",
       "    <tr>\n",
       "      <th>0</th>\n",
       "      <td>Random forest 4</td>\n",
       "      <td>0.833423</td>\n",
       "      <td>0.833380</td>\n",
       "      <td>n_estimators=110,n_jobs=-1, criterion=gini ,ma...</td>\n",
       "      <td>The model is not able to identify class 0</td>\n",
       "    </tr>\n",
       "  </tbody>\n",
       "</table>\n",
       "</div>"
      ],
      "text/plain": [
       "             Model  Train_acc  Test_acc  \\\n",
       "0     Logistic Reg   0.900731  0.870772   \n",
       "0    Random forest   0.977414  0.855116   \n",
       "0  Random forest 2   0.833423  0.833380   \n",
       "0  Random forest 3   0.833423  0.833380   \n",
       "0  Random forest 4   0.833423  0.833380   \n",
       "\n",
       "                                          parameters  \\\n",
       "0                                            default   \n",
       "0                                            default   \n",
       "0  n_estimators=120,n_jobs=-1, criterion=gini ,ma...   \n",
       "0  n_estimators=50,n_jobs=-1, criterion=gini ,max...   \n",
       "0  n_estimators=110,n_jobs=-1, criterion=gini ,ma...   \n",
       "\n",
       "                                             Remarks  \n",
       "0  The difference between train and test is 0.03 ...  \n",
       "0  The difference between train and test is 0.12 ...  \n",
       "0         The model is not able to identify class 0   \n",
       "0         The model is not able to identify class 0   \n",
       "0         The model is not able to identify class 0   "
      ]
     },
     "execution_count": 69,
     "metadata": {},
     "output_type": "execute_result"
    }
   ],
   "source": [
    "performance"
   ]
  },
  {
   "cell_type": "code",
   "execution_count": 70,
   "id": "ce010467",
   "metadata": {},
   "outputs": [
    {
     "name": "stdout",
     "output_type": "stream",
     "text": [
      "                classification report ofXGBClassifiert model in train dataset is:\n",
      "              precision    recall  f1-score   support\n",
      "\n",
      "           0       0.82      0.43      0.56      5561\n",
      "           1       0.90      0.98      0.94     27823\n",
      "\n",
      "    accuracy                           0.89     33384\n",
      "   macro avg       0.86      0.71      0.75     33384\n",
      "weighted avg       0.88      0.89      0.87     33384\n",
      "                 classification report of XGBClassifier in test dataset:\n",
      "              precision    recall  f1-score   support\n",
      "\n",
      "           0       0.17      1.00      0.29      2384\n",
      "           1       0.00      0.00      0.00     11924\n",
      "\n",
      "    accuracy                           0.17     14308\n",
      "   macro avg       0.08      0.50      0.14     14308\n",
      "weighted avg       0.03      0.17      0.05     14308\n",
      " "
     ]
    },
    {
     "name": "stderr",
     "output_type": "stream",
     "text": [
      "C:\\Users\\ashwi\\anaconda3\\Lib\\site-packages\\sklearn\\metrics\\_classification.py:1469: UndefinedMetricWarning: Precision and F-score are ill-defined and being set to 0.0 in labels with no predicted samples. Use `zero_division` parameter to control this behavior.\n",
      "  _warn_prf(average, modifier, msg_start, len(result))\n",
      "C:\\Users\\ashwi\\anaconda3\\Lib\\site-packages\\sklearn\\metrics\\_classification.py:1469: UndefinedMetricWarning: Precision and F-score are ill-defined and being set to 0.0 in labels with no predicted samples. Use `zero_division` parameter to control this behavior.\n",
      "  _warn_prf(average, modifier, msg_start, len(result))\n",
      "C:\\Users\\ashwi\\anaconda3\\Lib\\site-packages\\sklearn\\metrics\\_classification.py:1469: UndefinedMetricWarning: Precision and F-score are ill-defined and being set to 0.0 in labels with no predicted samples. Use `zero_division` parameter to control this behavior.\n",
      "  _warn_prf(average, modifier, msg_start, len(result))\n"
     ]
    }
   ],
   "source": [
    "xg= XGBClassifier()\n",
    "\n",
    "xg.fit(train,ytrain)\n",
    "\n",
    "import seaborn as sns\n",
    "\n",
    "\n",
    "print('                classification report ofXGBClassifiert model in train dataset is:')\n",
    "print(classification_report(ytrain,xg.predict(train)),end=' ')\n",
    "\n",
    "print('                classification report of XGBClassifier in test dataset:')\n",
    "print(classification_report(ytest,xg.predict(xtest_tf)),end=' ')"
   ]
  },
  {
   "cell_type": "code",
   "execution_count": 71,
   "id": "ebc4e0bb",
   "metadata": {},
   "outputs": [],
   "source": [
    "performance = pd.concat([performance, pd.DataFrame({'Model':['XGB'],'Train_acc':[accuracy_score(ytrain,xg.predict(xtrain_tf))]\n",
    "                           , 'Test_acc':[accuracy_score(ytest,xg.predict(xtest_tf))]\n",
    "                           \n",
    "                           \n",
    "                           \n",
    "                          ,'parameters':['default'], 'Remarks':['The model is not able to identify class 1 in test and accuracy in train test is low too  ']  })])"
   ]
  },
  {
   "cell_type": "code",
   "execution_count": 72,
   "id": "be7795e6",
   "metadata": {},
   "outputs": [
    {
     "data": {
      "text/html": [
       "<div>\n",
       "<style scoped>\n",
       "    .dataframe tbody tr th:only-of-type {\n",
       "        vertical-align: middle;\n",
       "    }\n",
       "\n",
       "    .dataframe tbody tr th {\n",
       "        vertical-align: top;\n",
       "    }\n",
       "\n",
       "    .dataframe thead th {\n",
       "        text-align: right;\n",
       "    }\n",
       "</style>\n",
       "<table border=\"1\" class=\"dataframe\">\n",
       "  <thead>\n",
       "    <tr style=\"text-align: right;\">\n",
       "      <th></th>\n",
       "      <th>Model</th>\n",
       "      <th>Train_acc</th>\n",
       "      <th>Test_acc</th>\n",
       "      <th>parameters</th>\n",
       "    </tr>\n",
       "    <tr>\n",
       "      <th>Remarks</th>\n",
       "      <th></th>\n",
       "      <th></th>\n",
       "      <th></th>\n",
       "      <th></th>\n",
       "    </tr>\n",
       "  </thead>\n",
       "  <tbody>\n",
       "    <tr>\n",
       "      <th>The difference between train and test is 0.03 within level of significance</th>\n",
       "      <td>Logistic Reg</td>\n",
       "      <td>0.900731</td>\n",
       "      <td>0.870772</td>\n",
       "      <td>default</td>\n",
       "    </tr>\n",
       "    <tr>\n",
       "      <th>The difference between train and test is 0.12 which is not within level of significance</th>\n",
       "      <td>Random forest</td>\n",
       "      <td>0.977414</td>\n",
       "      <td>0.855116</td>\n",
       "      <td>default</td>\n",
       "    </tr>\n",
       "    <tr>\n",
       "      <th>The model is not able to identify class 0</th>\n",
       "      <td>Random forest 2</td>\n",
       "      <td>0.833423</td>\n",
       "      <td>0.833380</td>\n",
       "      <td>n_estimators=120,n_jobs=-1, criterion=gini ,ma...</td>\n",
       "    </tr>\n",
       "    <tr>\n",
       "      <th>The model is not able to identify class 0</th>\n",
       "      <td>Random forest 3</td>\n",
       "      <td>0.833423</td>\n",
       "      <td>0.833380</td>\n",
       "      <td>n_estimators=50,n_jobs=-1, criterion=gini ,max...</td>\n",
       "    </tr>\n",
       "    <tr>\n",
       "      <th>The model is not able to identify class 0</th>\n",
       "      <td>Random forest 4</td>\n",
       "      <td>0.833423</td>\n",
       "      <td>0.833380</td>\n",
       "      <td>n_estimators=110,n_jobs=-1, criterion=gini ,ma...</td>\n",
       "    </tr>\n",
       "    <tr>\n",
       "      <th>The model is not able to identify class 1 in test and accuracy in train test is low too</th>\n",
       "      <td>XGB</td>\n",
       "      <td>0.166577</td>\n",
       "      <td>0.166620</td>\n",
       "      <td>default</td>\n",
       "    </tr>\n",
       "  </tbody>\n",
       "</table>\n",
       "</div>"
      ],
      "text/plain": [
       "                                                              Model  \\\n",
       "Remarks                                                               \n",
       "The difference between train and test is 0.03 w...     Logistic Reg   \n",
       "The difference between train and test is 0.12 w...    Random forest   \n",
       "The model is not able to identify class 0           Random forest 2   \n",
       "The model is not able to identify class 0           Random forest 3   \n",
       "The model is not able to identify class 0           Random forest 4   \n",
       "The model is not able to identify class 1 in te...              XGB   \n",
       "\n",
       "                                                    Train_acc  Test_acc  \\\n",
       "Remarks                                                                   \n",
       "The difference between train and test is 0.03 w...   0.900731  0.870772   \n",
       "The difference between train and test is 0.12 w...   0.977414  0.855116   \n",
       "The model is not able to identify class 0            0.833423  0.833380   \n",
       "The model is not able to identify class 0            0.833423  0.833380   \n",
       "The model is not able to identify class 0            0.833423  0.833380   \n",
       "The model is not able to identify class 1 in te...   0.166577  0.166620   \n",
       "\n",
       "                                                                                           parameters  \n",
       "Remarks                                                                                                \n",
       "The difference between train and test is 0.03 w...                                            default  \n",
       "The difference between train and test is 0.12 w...                                            default  \n",
       "The model is not able to identify class 0           n_estimators=120,n_jobs=-1, criterion=gini ,ma...  \n",
       "The model is not able to identify class 0           n_estimators=50,n_jobs=-1, criterion=gini ,max...  \n",
       "The model is not able to identify class 0           n_estimators=110,n_jobs=-1, criterion=gini ,ma...  \n",
       "The model is not able to identify class 1 in te...                                            default  "
      ]
     },
     "execution_count": 72,
     "metadata": {},
     "output_type": "execute_result"
    }
   ],
   "source": [
    "performance.set_index(\"Remarks\")"
   ]
  },
  {
   "cell_type": "code",
   "execution_count": 73,
   "id": "c7a518b5",
   "metadata": {},
   "outputs": [
    {
     "name": "stdout",
     "output_type": "stream",
     "text": [
      "                classification report of Adaboost model in train dataset is:\n",
      "              precision    recall  f1-score   support\n",
      "\n",
      "           0       0.71      0.23      0.35      5561\n",
      "           1       0.86      0.98      0.92     27823\n",
      "\n",
      "    accuracy                           0.86     33384\n",
      "   macro avg       0.79      0.61      0.63     33384\n",
      "weighted avg       0.84      0.86      0.82     33384\n",
      "                 classification report of Adaboost in test dataset:\n"
     ]
    },
    {
     "name": "stderr",
     "output_type": "stream",
     "text": [
      "C:\\Users\\ashwi\\anaconda3\\Lib\\site-packages\\sklearn\\base.py:464: UserWarning: X does not have valid feature names, but AdaBoostClassifier was fitted with feature names\n",
      "  warnings.warn(\n"
     ]
    },
    {
     "name": "stdout",
     "output_type": "stream",
     "text": [
      "              precision    recall  f1-score   support\n",
      "\n",
      "           0       0.72      0.24      0.36      2384\n",
      "           1       0.87      0.98      0.92     11924\n",
      "\n",
      "    accuracy                           0.86     14308\n",
      "   macro avg       0.80      0.61      0.64     14308\n",
      "weighted avg       0.84      0.86      0.83     14308\n",
      " "
     ]
    }
   ],
   "source": [
    "ad= AdaBoostClassifier()\n",
    "\n",
    "ad.fit(train,ytrain)\n",
    "\n",
    "import seaborn as sns\n",
    "\n",
    "\n",
    "print('                classification report of Adaboost model in train dataset is:')\n",
    "print(classification_report(ytrain,ad.predict(train)),end=' ')\n",
    "\n",
    "print('                classification report of Adaboost in test dataset:')\n",
    "print(classification_report(ytest,ad.predict(xtest_tf)),end=' ')"
   ]
  },
  {
   "cell_type": "code",
   "execution_count": null,
   "id": "0f601430",
   "metadata": {},
   "outputs": [],
   "source": []
  },
  {
   "cell_type": "code",
   "execution_count": 74,
   "id": "f3bf6035",
   "metadata": {},
   "outputs": [
    {
     "name": "stderr",
     "output_type": "stream",
     "text": [
      "C:\\Users\\ashwi\\anaconda3\\Lib\\site-packages\\sklearn\\base.py:464: UserWarning: X does not have valid feature names, but AdaBoostClassifier was fitted with feature names\n",
      "  warnings.warn(\n",
      "C:\\Users\\ashwi\\anaconda3\\Lib\\site-packages\\sklearn\\base.py:464: UserWarning: X does not have valid feature names, but AdaBoostClassifier was fitted with feature names\n",
      "  warnings.warn(\n"
     ]
    }
   ],
   "source": [
    "performance = pd.concat([performance, pd.DataFrame({'Model':['Adaboost'],'Train_acc':[accuracy_score(ytrain,ad.predict(xtrain_tf))]\n",
    "                           , 'Test_acc':[accuracy_score(ytest,ad.predict(xtest_tf))]\n",
    "                           \n",
    "                           \n",
    "                           \n",
    "                          ,'parameters':['default'], 'Remarks':['The differnce between train and test is within level of sgnificance  ']  })])"
   ]
  },
  {
   "cell_type": "code",
   "execution_count": 75,
   "id": "84a31893",
   "metadata": {},
   "outputs": [],
   "source": [
    "performance.reset_index(inplace=True)"
   ]
  },
  {
   "cell_type": "code",
   "execution_count": 76,
   "id": "579c6381",
   "metadata": {},
   "outputs": [],
   "source": [
    "performance.drop('index',axis=1,inplace=True)"
   ]
  },
  {
   "cell_type": "code",
   "execution_count": 77,
   "id": "496278e1",
   "metadata": {},
   "outputs": [
    {
     "data": {
      "text/html": [
       "<div>\n",
       "<style scoped>\n",
       "    .dataframe tbody tr th:only-of-type {\n",
       "        vertical-align: middle;\n",
       "    }\n",
       "\n",
       "    .dataframe tbody tr th {\n",
       "        vertical-align: top;\n",
       "    }\n",
       "\n",
       "    .dataframe thead th {\n",
       "        text-align: right;\n",
       "    }\n",
       "</style>\n",
       "<table border=\"1\" class=\"dataframe\">\n",
       "  <thead>\n",
       "    <tr style=\"text-align: right;\">\n",
       "      <th></th>\n",
       "      <th>Model</th>\n",
       "      <th>Train_acc</th>\n",
       "      <th>Test_acc</th>\n",
       "      <th>parameters</th>\n",
       "    </tr>\n",
       "    <tr>\n",
       "      <th>Remarks</th>\n",
       "      <th></th>\n",
       "      <th></th>\n",
       "      <th></th>\n",
       "      <th></th>\n",
       "    </tr>\n",
       "  </thead>\n",
       "  <tbody>\n",
       "    <tr>\n",
       "      <th>The difference between train and test is 0.03 within level of significance</th>\n",
       "      <td>Logistic Reg</td>\n",
       "      <td>0.900731</td>\n",
       "      <td>0.870772</td>\n",
       "      <td>default</td>\n",
       "    </tr>\n",
       "    <tr>\n",
       "      <th>The differnce between train and test is within level of sgnificance</th>\n",
       "      <td>Adaboost</td>\n",
       "      <td>0.856009</td>\n",
       "      <td>0.858261</td>\n",
       "      <td>default</td>\n",
       "    </tr>\n",
       "    <tr>\n",
       "      <th>The difference between train and test is 0.12 which is not within level of significance</th>\n",
       "      <td>Random forest</td>\n",
       "      <td>0.977414</td>\n",
       "      <td>0.855116</td>\n",
       "      <td>default</td>\n",
       "    </tr>\n",
       "    <tr>\n",
       "      <th>The model is not able to identify class 0</th>\n",
       "      <td>Random forest 2</td>\n",
       "      <td>0.833423</td>\n",
       "      <td>0.833380</td>\n",
       "      <td>n_estimators=120,n_jobs=-1, criterion=gini ,ma...</td>\n",
       "    </tr>\n",
       "    <tr>\n",
       "      <th>The model is not able to identify class 0</th>\n",
       "      <td>Random forest 3</td>\n",
       "      <td>0.833423</td>\n",
       "      <td>0.833380</td>\n",
       "      <td>n_estimators=50,n_jobs=-1, criterion=gini ,max...</td>\n",
       "    </tr>\n",
       "    <tr>\n",
       "      <th>The model is not able to identify class 0</th>\n",
       "      <td>Random forest 4</td>\n",
       "      <td>0.833423</td>\n",
       "      <td>0.833380</td>\n",
       "      <td>n_estimators=110,n_jobs=-1, criterion=gini ,ma...</td>\n",
       "    </tr>\n",
       "    <tr>\n",
       "      <th>The model is not able to identify class 1 in test and accuracy in train test is low too</th>\n",
       "      <td>XGB</td>\n",
       "      <td>0.166577</td>\n",
       "      <td>0.166620</td>\n",
       "      <td>default</td>\n",
       "    </tr>\n",
       "  </tbody>\n",
       "</table>\n",
       "</div>"
      ],
      "text/plain": [
       "                                                              Model  \\\n",
       "Remarks                                                               \n",
       "The difference between train and test is 0.03 w...     Logistic Reg   \n",
       "The differnce between train and test is within ...         Adaboost   \n",
       "The difference between train and test is 0.12 w...    Random forest   \n",
       "The model is not able to identify class 0           Random forest 2   \n",
       "The model is not able to identify class 0           Random forest 3   \n",
       "The model is not able to identify class 0           Random forest 4   \n",
       "The model is not able to identify class 1 in te...              XGB   \n",
       "\n",
       "                                                    Train_acc  Test_acc  \\\n",
       "Remarks                                                                   \n",
       "The difference between train and test is 0.03 w...   0.900731  0.870772   \n",
       "The differnce between train and test is within ...   0.856009  0.858261   \n",
       "The difference between train and test is 0.12 w...   0.977414  0.855116   \n",
       "The model is not able to identify class 0            0.833423  0.833380   \n",
       "The model is not able to identify class 0            0.833423  0.833380   \n",
       "The model is not able to identify class 0            0.833423  0.833380   \n",
       "The model is not able to identify class 1 in te...   0.166577  0.166620   \n",
       "\n",
       "                                                                                           parameters  \n",
       "Remarks                                                                                                \n",
       "The difference between train and test is 0.03 w...                                            default  \n",
       "The differnce between train and test is within ...                                            default  \n",
       "The difference between train and test is 0.12 w...                                            default  \n",
       "The model is not able to identify class 0           n_estimators=120,n_jobs=-1, criterion=gini ,ma...  \n",
       "The model is not able to identify class 0           n_estimators=50,n_jobs=-1, criterion=gini ,max...  \n",
       "The model is not able to identify class 0           n_estimators=110,n_jobs=-1, criterion=gini ,ma...  \n",
       "The model is not able to identify class 1 in te...                                            default  "
      ]
     },
     "execution_count": 77,
     "metadata": {},
     "output_type": "execute_result"
    }
   ],
   "source": [
    "performance.sort_values(by='Test_acc',ascending=False).set_index('Remarks')"
   ]
  },
  {
   "cell_type": "code",
   "execution_count": 78,
   "id": "db3a8ccc",
   "metadata": {},
   "outputs": [],
   "source": [
    "feature_imp = pd.DataFrame(base_lr.coef_.T,index=base_lr.feature_names_in_,columns=['Coefficient of logrithmic equation'])"
   ]
  },
  {
   "cell_type": "code",
   "execution_count": 79,
   "id": "b65f1c56",
   "metadata": {},
   "outputs": [
    {
     "data": {
      "text/html": [
       "<div>\n",
       "<style scoped>\n",
       "    .dataframe tbody tr th:only-of-type {\n",
       "        vertical-align: middle;\n",
       "    }\n",
       "\n",
       "    .dataframe tbody tr th {\n",
       "        vertical-align: top;\n",
       "    }\n",
       "\n",
       "    .dataframe thead th {\n",
       "        text-align: right;\n",
       "    }\n",
       "</style>\n",
       "<table border=\"1\" class=\"dataframe\">\n",
       "  <thead>\n",
       "    <tr style=\"text-align: right;\">\n",
       "      <th></th>\n",
       "      <th>Coefficient of logrithmic equation</th>\n",
       "    </tr>\n",
       "  </thead>\n",
       "  <tbody>\n",
       "    <tr>\n",
       "      <th>dumb</th>\n",
       "      <td>7.145504</td>\n",
       "    </tr>\n",
       "    <tr>\n",
       "      <th>rape</th>\n",
       "      <td>6.587919</td>\n",
       "    </tr>\n",
       "    <tr>\n",
       "      <th>nigger</th>\n",
       "      <td>6.365963</td>\n",
       "    </tr>\n",
       "    <tr>\n",
       "      <th>muslims</th>\n",
       "      <td>6.311047</td>\n",
       "    </tr>\n",
       "    <tr>\n",
       "      <th>high</th>\n",
       "      <td>6.213606</td>\n",
       "    </tr>\n",
       "    <tr>\n",
       "      <th>joke</th>\n",
       "      <td>6.097922</td>\n",
       "    </tr>\n",
       "    <tr>\n",
       "      <th>idiot</th>\n",
       "      <td>5.709589</td>\n",
       "    </tr>\n",
       "    <tr>\n",
       "      <th>bitch</th>\n",
       "      <td>5.443509</td>\n",
       "    </tr>\n",
       "    <tr>\n",
       "      <th>feminazi</th>\n",
       "      <td>5.395302</td>\n",
       "    </tr>\n",
       "    <tr>\n",
       "      <th>fuck</th>\n",
       "      <td>5.302536</td>\n",
       "    </tr>\n",
       "    <tr>\n",
       "      <th>gay</th>\n",
       "      <td>5.268063</td>\n",
       "    </tr>\n",
       "    <tr>\n",
       "      <th>sexist</th>\n",
       "      <td>5.205155</td>\n",
       "    </tr>\n",
       "    <tr>\n",
       "      <th>idiots</th>\n",
       "      <td>5.153047</td>\n",
       "    </tr>\n",
       "  </tbody>\n",
       "</table>\n",
       "</div>"
      ],
      "text/plain": [
       "          Coefficient of logrithmic equation\n",
       "dumb                                7.145504\n",
       "rape                                6.587919\n",
       "nigger                              6.365963\n",
       "muslims                             6.311047\n",
       "high                                6.213606\n",
       "joke                                6.097922\n",
       "idiot                               5.709589\n",
       "bitch                               5.443509\n",
       "feminazi                            5.395302\n",
       "fuck                                5.302536\n",
       "gay                                 5.268063\n",
       "sexist                              5.205155\n",
       "idiots                              5.153047"
      ]
     },
     "execution_count": 79,
     "metadata": {},
     "output_type": "execute_result"
    }
   ],
   "source": [
    "feature_imp.sort_values(by='Coefficient of logrithmic equation', ascending=False).head(13)"
   ]
  },
  {
   "cell_type": "code",
   "execution_count": 80,
   "id": "1d44196f",
   "metadata": {},
   "outputs": [
    {
     "data": {
      "text/html": [
       "<div>\n",
       "<style scoped>\n",
       "    .dataframe tbody tr th:only-of-type {\n",
       "        vertical-align: middle;\n",
       "    }\n",
       "\n",
       "    .dataframe tbody tr th {\n",
       "        vertical-align: top;\n",
       "    }\n",
       "\n",
       "    .dataframe thead th {\n",
       "        text-align: right;\n",
       "    }\n",
       "</style>\n",
       "<table border=\"1\" class=\"dataframe\">\n",
       "  <thead>\n",
       "    <tr style=\"text-align: right;\">\n",
       "      <th></th>\n",
       "      <th>Coefficient of logrithmic equation</th>\n",
       "    </tr>\n",
       "  </thead>\n",
       "  <tbody>\n",
       "    <tr>\n",
       "      <th>bull</th>\n",
       "      <td>-2.003230</td>\n",
       "    </tr>\n",
       "    <tr>\n",
       "      <th>classic</th>\n",
       "      <td>-2.014792</td>\n",
       "    </tr>\n",
       "    <tr>\n",
       "      <th>yesallwomen</th>\n",
       "      <td>-2.366643</td>\n",
       "    </tr>\n",
       "    <tr>\n",
       "      <th>lifeinkhilafah</th>\n",
       "      <td>-2.367344</td>\n",
       "    </tr>\n",
       "    <tr>\n",
       "      <th>isso</th>\n",
       "      <td>-2.459580</td>\n",
       "    </tr>\n",
       "    <tr>\n",
       "      <th>mosul</th>\n",
       "      <td>-2.516436</td>\n",
       "    </tr>\n",
       "    <tr>\n",
       "      <th>beatdown</th>\n",
       "      <td>-2.613371</td>\n",
       "    </tr>\n",
       "    <tr>\n",
       "      <th>college</th>\n",
       "      <td>-2.890191</td>\n",
       "    </tr>\n",
       "    <tr>\n",
       "      <th>daesh</th>\n",
       "      <td>-3.215038</td>\n",
       "    </tr>\n",
       "    <tr>\n",
       "      <th>que</th>\n",
       "      <td>-3.226076</td>\n",
       "    </tr>\n",
       "    <tr>\n",
       "      <th>de</th>\n",
       "      <td>-3.257278</td>\n",
       "    </tr>\n",
       "    <tr>\n",
       "      <th>class</th>\n",
       "      <td>-3.775503</td>\n",
       "    </tr>\n",
       "    <tr>\n",
       "      <th>andre</th>\n",
       "      <td>-4.315088</td>\n",
       "    </tr>\n",
       "    <tr>\n",
       "      <th>mkr</th>\n",
       "      <td>-5.687488</td>\n",
       "    </tr>\n",
       "  </tbody>\n",
       "</table>\n",
       "</div>"
      ],
      "text/plain": [
       "                Coefficient of logrithmic equation\n",
       "bull                                     -2.003230\n",
       "classic                                  -2.014792\n",
       "yesallwomen                              -2.366643\n",
       "lifeinkhilafah                           -2.367344\n",
       "isso                                     -2.459580\n",
       "mosul                                    -2.516436\n",
       "beatdown                                 -2.613371\n",
       "college                                  -2.890191\n",
       "daesh                                    -3.215038\n",
       "que                                      -3.226076\n",
       "de                                       -3.257278\n",
       "class                                    -3.775503\n",
       "andre                                    -4.315088\n",
       "mkr                                      -5.687488"
      ]
     },
     "execution_count": 80,
     "metadata": {},
     "output_type": "execute_result"
    }
   ],
   "source": [
    "feature_imp.sort_values(by='Coefficient of logrithmic equation', ascending=False).tail(14)"
   ]
  },
  {
   "cell_type": "code",
   "execution_count": 81,
   "id": "1bb53e93",
   "metadata": {},
   "outputs": [
    {
     "data": {
      "image/png": "[encoded data removed]",
      "text/plain": [
       "<Figure size 1200x600 with 1 Axes>"
      ]
     },
     "metadata": {},
     "output_type": "display_data"
    }
   ],
   "source": [
    "import matplotlib.pyplot as plt\n",
    "\n",
    "# Model performance data\n",
    "models = ['Logistic Reg', 'Adaboost', 'Random Forest', 'Random Forest 2', 'Random Forest 3', 'Random Forest 4', 'XGB']\n",
    "train_acc = [0.900731, 0.856009, 0.977444, 0.833423, 0.833423, 0.833423, 0.166577]\n",
    "test_acc = [0.870772, 0.858261, 0.851901, 0.833380, 0.833380, 0.833380, 0.166620]\n",
    "\n",
    "x = range(len(models))\n",
    "\n",
    "plt.figure(figsize=(12, 6))\n",
    "plt.bar(x, train_acc, width=0.4, label='Train Accuracy', align='center')\n",
    "plt.bar(x, test_acc, width=0.4, label='Test Accuracy', align='edge')\n",
    "\n",
    "plt.xlabel('Models')\n",
    "plt.ylabel('Accuracy')\n",
    "plt.title('Model Performance Comparison')\n",
    "plt.xticks(x, models, rotation='vertical')\n",
    "plt.legend()\n",
    "plt.tight_layout()\n",
    "\n",
    "# Show the plot\n",
    "plt.show()\n"
   ]
  },
  {
   "cell_type": "markdown",
   "id": "54c7e3c2",
   "metadata": {},
   "source": [
    "# Logistic Regression is the better model overall because it:\n",
    "\n",
    "1. Achieves higher overall accuracy.\n",
    "2. Shows significantly better precision and F1-score for Class 0, which is important since Class 0 performance was a weakness for AdaBoost.\n",
    "3. Maintains excellent performance for Class 1, similar to AdaBoost.\n",
    "4. Has higher macro and weighted average scores, indicating better balanced and consistent performance across different metrics."
   ]
  }
 ],
 "metadata": {
  "kernelspec": {
   "display_name": "Python 3 (ipykernel)",
   "language": "python",
   "name": "python3"
  },
  "language_info": {
   "codemirror_mode": {
    "name": "ipython",
    "version": 3
   },
   "file_extension": ".py",
   "mimetype": "text/x-python",
   "name": "python",
   "nbconvert_exporter": "python",
   "pygments_lexer": "ipython3",
   "version": "3.11.4"
  }
 },
 "nbformat": 4,
 "nbformat_minor": 5
}
